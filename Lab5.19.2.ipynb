{
  "nbformat": 4,
  "nbformat_minor": 0,
  "metadata": {
    "colab": {
      "provenance": [],
      "authorship_tag": "ABX9TyMNvSsmt3SRzSs6iqk1PO6u",
      "include_colab_link": true
    },
    "kernelspec": {
      "name": "python3",
      "display_name": "Python 3"
    },
    "language_info": {
      "name": "python"
    }
  },
  "cells": [
    {
      "cell_type": "markdown",
      "metadata": {
        "id": "view-in-github",
        "colab_type": "text"
      },
      "source": [
        "<a href=\"https://colab.research.google.com/github/DjengoFang/Financial-Engineering-Ruppert-Matteson-/blob/main/Lab5.19.2.ipynb\" target=\"_parent\"><img src=\"https://colab.research.google.com/assets/colab-badge.svg\" alt=\"Open In Colab\"/></a>"
      ]
    },
    {
      "cell_type": "code",
      "execution_count": 18,
      "metadata": {
        "id": "ZDUB7x3i3wYs"
      },
      "outputs": [],
      "source": [
        "import pandas as pd\n",
        "import numpy as np\n",
        "import matplotlib.pyplot as plt\n",
        "import math\n",
        "import scipy.stats as stats\n",
        "import scipy.optimize as opt\n",
        "import statsmodels.api as sm\n",
        "import pylab as py\n",
        "import seaborn as sns"
      ]
    },
    {
      "cell_type": "code",
      "source": [
        "!pip install fitter"
      ],
      "metadata": {
        "colab": {
          "base_uri": "https://localhost:8080/"
        },
        "id": "XZF9v1ji3xH1",
        "outputId": "13eddfc7-c416-427f-b2f2-3a6d0d3a65e0"
      },
      "execution_count": 19,
      "outputs": [
        {
          "output_type": "stream",
          "name": "stdout",
          "text": [
            "Looking in indexes: https://pypi.org/simple, https://us-python.pkg.dev/colab-wheels/public/simple/\n",
            "Requirement already satisfied: fitter in /usr/local/lib/python3.8/dist-packages (1.5.2)\n",
            "Requirement already satisfied: numpy in /usr/local/lib/python3.8/dist-packages (from fitter) (1.21.6)\n",
            "Requirement already satisfied: click in /usr/local/lib/python3.8/dist-packages (from fitter) (7.1.2)\n",
            "Requirement already satisfied: scipy>=0.18 in /usr/local/lib/python3.8/dist-packages (from fitter) (1.7.3)\n",
            "Requirement already satisfied: matplotlib in /usr/local/lib/python3.8/dist-packages (from fitter) (3.2.2)\n",
            "Requirement already satisfied: tqdm in /usr/local/lib/python3.8/dist-packages (from fitter) (4.64.1)\n",
            "Requirement already satisfied: joblib in /usr/local/lib/python3.8/dist-packages (from fitter) (1.2.0)\n",
            "Requirement already satisfied: pandas in /usr/local/lib/python3.8/dist-packages (from fitter) (1.3.5)\n",
            "Requirement already satisfied: cycler>=0.10 in /usr/local/lib/python3.8/dist-packages (from matplotlib->fitter) (0.11.0)\n",
            "Requirement already satisfied: python-dateutil>=2.1 in /usr/local/lib/python3.8/dist-packages (from matplotlib->fitter) (2.8.2)\n",
            "Requirement already satisfied: kiwisolver>=1.0.1 in /usr/local/lib/python3.8/dist-packages (from matplotlib->fitter) (1.4.4)\n",
            "Requirement already satisfied: pyparsing!=2.0.4,!=2.1.2,!=2.1.6,>=2.0.1 in /usr/local/lib/python3.8/dist-packages (from matplotlib->fitter) (3.0.9)\n",
            "Requirement already satisfied: pytz>=2017.3 in /usr/local/lib/python3.8/dist-packages (from pandas->fitter) (2022.7)\n",
            "Requirement already satisfied: six>=1.5 in /usr/local/lib/python3.8/dist-packages (from python-dateutil>=2.1->matplotlib->fitter) (1.15.0)\n"
          ]
        }
      ]
    },
    {
      "cell_type": "code",
      "source": [
        "from fitter import Fitter, get_common_distributions, get_distributions"
      ],
      "metadata": {
        "id": "IYgAb4H130K0"
      },
      "execution_count": 20,
      "outputs": []
    },
    {
      "cell_type": "code",
      "source": [
        "url = 'https://raw.githubusercontent.com/DjengoFang/Financial-Engineering-Ruppert-Matteson-/main/datasets/EuStockMarkets.csv'\n",
        "data = pd.read_csv(url)\n",
        "data.head(5)"
      ],
      "metadata": {
        "colab": {
          "base_uri": "https://localhost:8080/",
          "height": 206
        },
        "id": "yeUqXrkr32vV",
        "outputId": "e92f3952-8f97-4611-82f7-f34dcc1dc414"
      },
      "execution_count": 21,
      "outputs": [
        {
          "output_type": "execute_result",
          "data": {
            "text/plain": [
              "       DAX     SMI     CAC    FTSE\n",
              "0  1628.75  1678.1  1772.8  2443.6\n",
              "1  1613.63  1688.5  1750.5  2460.2\n",
              "2  1606.51  1678.6  1718.0  2448.2\n",
              "3  1621.04  1684.1  1708.1  2470.4\n",
              "4  1618.16  1686.6  1723.1  2484.7"
            ],
            "text/html": [
              "\n",
              "  <div id=\"df-2ea8675c-3433-4b61-92bd-94d5c0ecdb1b\">\n",
              "    <div class=\"colab-df-container\">\n",
              "      <div>\n",
              "<style scoped>\n",
              "    .dataframe tbody tr th:only-of-type {\n",
              "        vertical-align: middle;\n",
              "    }\n",
              "\n",
              "    .dataframe tbody tr th {\n",
              "        vertical-align: top;\n",
              "    }\n",
              "\n",
              "    .dataframe thead th {\n",
              "        text-align: right;\n",
              "    }\n",
              "</style>\n",
              "<table border=\"1\" class=\"dataframe\">\n",
              "  <thead>\n",
              "    <tr style=\"text-align: right;\">\n",
              "      <th></th>\n",
              "      <th>DAX</th>\n",
              "      <th>SMI</th>\n",
              "      <th>CAC</th>\n",
              "      <th>FTSE</th>\n",
              "    </tr>\n",
              "  </thead>\n",
              "  <tbody>\n",
              "    <tr>\n",
              "      <th>0</th>\n",
              "      <td>1628.75</td>\n",
              "      <td>1678.1</td>\n",
              "      <td>1772.8</td>\n",
              "      <td>2443.6</td>\n",
              "    </tr>\n",
              "    <tr>\n",
              "      <th>1</th>\n",
              "      <td>1613.63</td>\n",
              "      <td>1688.5</td>\n",
              "      <td>1750.5</td>\n",
              "      <td>2460.2</td>\n",
              "    </tr>\n",
              "    <tr>\n",
              "      <th>2</th>\n",
              "      <td>1606.51</td>\n",
              "      <td>1678.6</td>\n",
              "      <td>1718.0</td>\n",
              "      <td>2448.2</td>\n",
              "    </tr>\n",
              "    <tr>\n",
              "      <th>3</th>\n",
              "      <td>1621.04</td>\n",
              "      <td>1684.1</td>\n",
              "      <td>1708.1</td>\n",
              "      <td>2470.4</td>\n",
              "    </tr>\n",
              "    <tr>\n",
              "      <th>4</th>\n",
              "      <td>1618.16</td>\n",
              "      <td>1686.6</td>\n",
              "      <td>1723.1</td>\n",
              "      <td>2484.7</td>\n",
              "    </tr>\n",
              "  </tbody>\n",
              "</table>\n",
              "</div>\n",
              "      <button class=\"colab-df-convert\" onclick=\"convertToInteractive('df-2ea8675c-3433-4b61-92bd-94d5c0ecdb1b')\"\n",
              "              title=\"Convert this dataframe to an interactive table.\"\n",
              "              style=\"display:none;\">\n",
              "        \n",
              "  <svg xmlns=\"http://www.w3.org/2000/svg\" height=\"24px\"viewBox=\"0 0 24 24\"\n",
              "       width=\"24px\">\n",
              "    <path d=\"M0 0h24v24H0V0z\" fill=\"none\"/>\n",
              "    <path d=\"M18.56 5.44l.94 2.06.94-2.06 2.06-.94-2.06-.94-.94-2.06-.94 2.06-2.06.94zm-11 1L8.5 8.5l.94-2.06 2.06-.94-2.06-.94L8.5 2.5l-.94 2.06-2.06.94zm10 10l.94 2.06.94-2.06 2.06-.94-2.06-.94-.94-2.06-.94 2.06-2.06.94z\"/><path d=\"M17.41 7.96l-1.37-1.37c-.4-.4-.92-.59-1.43-.59-.52 0-1.04.2-1.43.59L10.3 9.45l-7.72 7.72c-.78.78-.78 2.05 0 2.83L4 21.41c.39.39.9.59 1.41.59.51 0 1.02-.2 1.41-.59l7.78-7.78 2.81-2.81c.8-.78.8-2.07 0-2.86zM5.41 20L4 18.59l7.72-7.72 1.47 1.35L5.41 20z\"/>\n",
              "  </svg>\n",
              "      </button>\n",
              "      \n",
              "  <style>\n",
              "    .colab-df-container {\n",
              "      display:flex;\n",
              "      flex-wrap:wrap;\n",
              "      gap: 12px;\n",
              "    }\n",
              "\n",
              "    .colab-df-convert {\n",
              "      background-color: #E8F0FE;\n",
              "      border: none;\n",
              "      border-radius: 50%;\n",
              "      cursor: pointer;\n",
              "      display: none;\n",
              "      fill: #1967D2;\n",
              "      height: 32px;\n",
              "      padding: 0 0 0 0;\n",
              "      width: 32px;\n",
              "    }\n",
              "\n",
              "    .colab-df-convert:hover {\n",
              "      background-color: #E2EBFA;\n",
              "      box-shadow: 0px 1px 2px rgba(60, 64, 67, 0.3), 0px 1px 3px 1px rgba(60, 64, 67, 0.15);\n",
              "      fill: #174EA6;\n",
              "    }\n",
              "\n",
              "    [theme=dark] .colab-df-convert {\n",
              "      background-color: #3B4455;\n",
              "      fill: #D2E3FC;\n",
              "    }\n",
              "\n",
              "    [theme=dark] .colab-df-convert:hover {\n",
              "      background-color: #434B5C;\n",
              "      box-shadow: 0px 1px 3px 1px rgba(0, 0, 0, 0.15);\n",
              "      filter: drop-shadow(0px 1px 2px rgba(0, 0, 0, 0.3));\n",
              "      fill: #FFFFFF;\n",
              "    }\n",
              "  </style>\n",
              "\n",
              "      <script>\n",
              "        const buttonEl =\n",
              "          document.querySelector('#df-2ea8675c-3433-4b61-92bd-94d5c0ecdb1b button.colab-df-convert');\n",
              "        buttonEl.style.display =\n",
              "          google.colab.kernel.accessAllowed ? 'block' : 'none';\n",
              "\n",
              "        async function convertToInteractive(key) {\n",
              "          const element = document.querySelector('#df-2ea8675c-3433-4b61-92bd-94d5c0ecdb1b');\n",
              "          const dataTable =\n",
              "            await google.colab.kernel.invokeFunction('convertToInteractive',\n",
              "                                                     [key], {});\n",
              "          if (!dataTable) return;\n",
              "\n",
              "          const docLinkHtml = 'Like what you see? Visit the ' +\n",
              "            '<a target=\"_blank\" href=https://colab.research.google.com/notebooks/data_table.ipynb>data table notebook</a>'\n",
              "            + ' to learn more about interactive tables.';\n",
              "          element.innerHTML = '';\n",
              "          dataTable['output_type'] = 'display_data';\n",
              "          await google.colab.output.renderOutput(dataTable, element);\n",
              "          const docLink = document.createElement('div');\n",
              "          docLink.innerHTML = docLinkHtml;\n",
              "          element.appendChild(docLink);\n",
              "        }\n",
              "      </script>\n",
              "    </div>\n",
              "  </div>\n",
              "  "
            ]
          },
          "metadata": {},
          "execution_count": 21
        }
      ]
    },
    {
      "cell_type": "code",
      "source": [
        "DAX_log = np.diff(np.log(data['DAX']))\n",
        "DAX_log"
      ],
      "metadata": {
        "colab": {
          "base_uri": "https://localhost:8080/"
        },
        "id": "s_Lmgci939qk",
        "outputId": "3c05d365-fcd1-4927-e8e8-9810e354eeb1"
      },
      "execution_count": 22,
      "outputs": [
        {
          "output_type": "execute_result",
          "data": {
            "text/plain": [
              "array([-0.00932655, -0.00442218,  0.00900379, ...,  0.01895731,\n",
              "       -0.0059412 ,  0.02192215])"
            ]
          },
          "metadata": {},
          "execution_count": 22
        }
      ]
    },
    {
      "cell_type": "markdown",
      "source": [
        "# Problem 6"
      ],
      "metadata": {
        "id": "6fwq2bWOBdO6"
      }
    },
    {
      "cell_type": "code",
      "source": [
        "x = DAX_log\n",
        "\n",
        "def log_like(parameters):\n",
        "  f = -np.sum(stats.t.logpdf(x,parameters[2],parameters[0],parameters[1]))\n",
        "  return f"
      ],
      "metadata": {
        "id": "Cx5Hiv1a4ck4"
      },
      "execution_count": 23,
      "outputs": []
    },
    {
      "cell_type": "code",
      "source": [
        "start = np.array([np.mean(x), np.std(x), 4])\n",
        "bnds = ((-0.1,0.1), (0.001, 1), (2.1, 20))\n",
        "log_like_model = opt.minimize(fun=log_like, x0=start, method='L-BFGS-B',bounds=bnds) "
      ],
      "metadata": {
        "id": "yz4AqLj28feP"
      },
      "execution_count": 24,
      "outputs": []
    },
    {
      "cell_type": "markdown",
      "source": [
        "## Optimize Parameters"
      ],
      "metadata": {
        "id": "o5t5qWQV_3KS"
      }
    },
    {
      "cell_type": "code",
      "source": [
        "parm = log_like_model.x\n",
        "print(parm)"
      ],
      "metadata": {
        "colab": {
          "base_uri": "https://localhost:8080/"
        },
        "id": "RBDazclx_VEM",
        "outputId": "ba271d04-6884-4e9f-9716-5b239cd9ee1b"
      },
      "execution_count": 25,
      "outputs": [
        {
          "output_type": "stream",
          "name": "stdout",
          "text": [
            "[7.84723297e-04 7.53880850e-03 4.19454353e+00]\n"
          ]
        }
      ]
    },
    {
      "cell_type": "markdown",
      "source": [
        "## AIC  Akaike information criterion"
      ],
      "metadata": {
        "id": "xVMMrEgQBCF_"
      }
    },
    {
      "cell_type": "code",
      "source": [
        "minus_logL_std = log_like(parm)\n",
        "print(minus_logL_std)"
      ],
      "metadata": {
        "colab": {
          "base_uri": "https://localhost:8080/"
        },
        "id": "HMWX45a4_-1I",
        "outputId": "319e0df3-7b43-4479-fa69-fd49226b4454"
      },
      "execution_count": 26,
      "outputs": [
        {
          "output_type": "stream",
          "name": "stdout",
          "text": [
            "-5983.321865930821\n"
          ]
        }
      ]
    },
    {
      "cell_type": "code",
      "source": [
        "AIC_std = 2*minus_logL_std + 2*len(parm)\n",
        "print(AIC_std)"
      ],
      "metadata": {
        "colab": {
          "base_uri": "https://localhost:8080/"
        },
        "id": "ifStibEZAlck",
        "outputId": "8e7ada3a-6f73-41cf-e562-0885dd9d6d90"
      },
      "execution_count": 27,
      "outputs": [
        {
          "output_type": "stream",
          "name": "stdout",
          "text": [
            "-11960.643731861643\n"
          ]
        }
      ]
    },
    {
      "cell_type": "markdown",
      "source": [
        "# Problem 7"
      ],
      "metadata": {
        "id": "jjuXbcGcBg9U"
      }
    },
    {
      "cell_type": "code",
      "source": [
        "!pip install sstudentt"
      ],
      "metadata": {
        "colab": {
          "base_uri": "https://localhost:8080/"
        },
        "id": "_sKZ1PZVCTK-",
        "outputId": "5ad4093a-20b0-4aa7-b829-3473c8871ae8"
      },
      "execution_count": 28,
      "outputs": [
        {
          "output_type": "stream",
          "name": "stdout",
          "text": [
            "Looking in indexes: https://pypi.org/simple, https://us-python.pkg.dev/colab-wheels/public/simple/\n",
            "Requirement already satisfied: sstudentt in /usr/local/lib/python3.8/dist-packages (0.1.1)\n",
            "Requirement already satisfied: numpy in /usr/local/lib/python3.8/dist-packages (from sstudentt) (1.21.6)\n",
            "Requirement already satisfied: scipy in /usr/local/lib/python3.8/dist-packages (from sstudentt) (1.7.3)\n"
          ]
        }
      ]
    },
    {
      "cell_type": "code",
      "source": [
        "from sstudentt import SST"
      ],
      "metadata": {
        "id": "A0F-fUBcCRp_"
      },
      "execution_count": 29,
      "outputs": []
    },
    {
      "cell_type": "code",
      "source": [
        "def log_like_SST(parameters):\n",
        "  dist = SST(mu = parameters[0], sigma = parameters[1], nu = parameters[2], tau = parameters[3])\n",
        "  f = -np.sum(np.log(SST.p(x)))\n",
        "  return f"
      ],
      "metadata": {
        "id": "rP4Rmp5WCreM"
      },
      "execution_count": 30,
      "outputs": []
    },
    {
      "cell_type": "code",
      "source": [
        "start = np.array([np.mean(x), np.std(x), 4, 1])\n",
        "bnds = ((-0.1,0.1), (0.001, 1), (2.1, 20), (0.25, 4))\n",
        "log_like_model = opt.minimize(fun=log_like, x0=start, method='L-BFGS-B',bounds=bnds) "
      ],
      "metadata": {
        "id": "S8I7zU9dEEIx"
      },
      "execution_count": 31,
      "outputs": []
    },
    {
      "cell_type": "markdown",
      "source": [
        "## Optimize Parameters"
      ],
      "metadata": {
        "id": "TWeySDCEEe7Z"
      }
    },
    {
      "cell_type": "code",
      "source": [
        "parm2 = log_like_model.x\n",
        "print(parm2)"
      ],
      "metadata": {
        "colab": {
          "base_uri": "https://localhost:8080/"
        },
        "id": "6BZieKi6ET_z",
        "outputId": "7e884d64-5bf6-4f47-8087-0e02163aa9b8"
      },
      "execution_count": 32,
      "outputs": [
        {
          "output_type": "stream",
          "name": "stdout",
          "text": [
            "[7.84723297e-04 7.53880850e-03 4.19454353e+00 1.00000000e+00]\n"
          ]
        }
      ]
    },
    {
      "cell_type": "markdown",
      "source": [
        "## AIC  Akaike information criterion"
      ],
      "metadata": {
        "id": "ywF0bXSgEo1w"
      }
    },
    {
      "cell_type": "code",
      "source": [
        "minus_logL_std = log_like(parm2)\n",
        "print(minus_logL_std)\n",
        "AIC_std = 2*minus_logL_std + 2*len(parm2)\n",
        "print(AIC_std)"
      ],
      "metadata": {
        "colab": {
          "base_uri": "https://localhost:8080/"
        },
        "id": "GTCpR-bsEinf",
        "outputId": "d9fa3416-b053-46a6-e95a-cb81f51b2453"
      },
      "execution_count": 33,
      "outputs": [
        {
          "output_type": "stream",
          "name": "stdout",
          "text": [
            "-5983.321865930821\n",
            "-11958.643731861643\n"
          ]
        }
      ]
    }
  ]
}