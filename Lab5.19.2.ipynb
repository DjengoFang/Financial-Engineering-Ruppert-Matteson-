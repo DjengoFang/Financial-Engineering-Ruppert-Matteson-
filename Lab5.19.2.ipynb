{
  "nbformat": 4,
  "nbformat_minor": 0,
  "metadata": {
    "colab": {
      "provenance": [],
      "authorship_tag": "ABX9TyOlM7anjFeLmZb+onIE83So",
      "include_colab_link": true
    },
    "kernelspec": {
      "name": "python3",
      "display_name": "Python 3"
    },
    "language_info": {
      "name": "python"
    }
  },
  "cells": [
    {
      "cell_type": "markdown",
      "metadata": {
        "id": "view-in-github",
        "colab_type": "text"
      },
      "source": [
        "<a href=\"https://colab.research.google.com/github/DjengoFang/Financial-Engineering-Ruppert-Matteson-/blob/main/Lab5.19.2.ipynb\" target=\"_parent\"><img src=\"https://colab.research.google.com/assets/colab-badge.svg\" alt=\"Open In Colab\"/></a>"
      ]
    },
    {
      "cell_type": "code",
      "execution_count": 92,
      "metadata": {
        "id": "ZDUB7x3i3wYs"
      },
      "outputs": [],
      "source": [
        "import pandas as pd\n",
        "import numpy as np\n",
        "import matplotlib.pyplot as plt\n",
        "import math\n",
        "import scipy.stats as stats\n",
        "import scipy.optimize as opt\n",
        "import statsmodels.api as sm\n",
        "import pylab as py\n",
        "import seaborn as sns"
      ]
    },
    {
      "cell_type": "code",
      "source": [
        "!pip install fitter"
      ],
      "metadata": {
        "colab": {
          "base_uri": "https://localhost:8080/"
        },
        "id": "XZF9v1ji3xH1",
        "outputId": "cd5b4369-2290-4567-a36d-3704852babdd"
      },
      "execution_count": 93,
      "outputs": [
        {
          "output_type": "stream",
          "name": "stdout",
          "text": [
            "Looking in indexes: https://pypi.org/simple, https://us-python.pkg.dev/colab-wheels/public/simple/\n",
            "Requirement already satisfied: fitter in /usr/local/lib/python3.8/dist-packages (1.5.2)\n",
            "Requirement already satisfied: tqdm in /usr/local/lib/python3.8/dist-packages (from fitter) (4.64.1)\n",
            "Requirement already satisfied: scipy>=0.18 in /usr/local/lib/python3.8/dist-packages (from fitter) (1.7.3)\n",
            "Requirement already satisfied: joblib in /usr/local/lib/python3.8/dist-packages (from fitter) (1.2.0)\n",
            "Requirement already satisfied: click in /usr/local/lib/python3.8/dist-packages (from fitter) (7.1.2)\n",
            "Requirement already satisfied: numpy in /usr/local/lib/python3.8/dist-packages (from fitter) (1.21.6)\n",
            "Requirement already satisfied: matplotlib in /usr/local/lib/python3.8/dist-packages (from fitter) (3.2.2)\n",
            "Requirement already satisfied: pandas in /usr/local/lib/python3.8/dist-packages (from fitter) (1.3.5)\n",
            "Requirement already satisfied: cycler>=0.10 in /usr/local/lib/python3.8/dist-packages (from matplotlib->fitter) (0.11.0)\n",
            "Requirement already satisfied: kiwisolver>=1.0.1 in /usr/local/lib/python3.8/dist-packages (from matplotlib->fitter) (1.4.4)\n",
            "Requirement already satisfied: pyparsing!=2.0.4,!=2.1.2,!=2.1.6,>=2.0.1 in /usr/local/lib/python3.8/dist-packages (from matplotlib->fitter) (3.0.9)\n",
            "Requirement already satisfied: python-dateutil>=2.1 in /usr/local/lib/python3.8/dist-packages (from matplotlib->fitter) (2.8.2)\n",
            "Requirement already satisfied: pytz>=2017.3 in /usr/local/lib/python3.8/dist-packages (from pandas->fitter) (2022.7)\n",
            "Requirement already satisfied: six>=1.5 in /usr/local/lib/python3.8/dist-packages (from python-dateutil>=2.1->matplotlib->fitter) (1.15.0)\n"
          ]
        }
      ]
    },
    {
      "cell_type": "code",
      "source": [
        "!pip install numdifftools"
      ],
      "metadata": {
        "outputId": "8ab4d29a-c274-46b9-dd5f-2af8eddd2777",
        "colab": {
          "base_uri": "https://localhost:8080/"
        },
        "id": "uRzJSqXYNf5v"
      },
      "execution_count": 94,
      "outputs": [
        {
          "output_type": "stream",
          "name": "stdout",
          "text": [
            "Looking in indexes: https://pypi.org/simple, https://us-python.pkg.dev/colab-wheels/public/simple/\n",
            "Requirement already satisfied: numdifftools in /usr/local/lib/python3.8/dist-packages (0.9.41)\n",
            "Requirement already satisfied: scipy>=0.8 in /usr/local/lib/python3.8/dist-packages (from numdifftools) (1.7.3)\n",
            "Requirement already satisfied: numpy>=1.9 in /usr/local/lib/python3.8/dist-packages (from numdifftools) (1.21.6)\n"
          ]
        }
      ]
    },
    {
      "cell_type": "code",
      "source": [
        "from fitter import Fitter, get_common_distributions, get_distributions"
      ],
      "metadata": {
        "id": "IYgAb4H130K0"
      },
      "execution_count": 95,
      "outputs": []
    },
    {
      "cell_type": "code",
      "source": [
        "import numdifftools as ndt"
      ],
      "metadata": {
        "id": "lECmf1ibNf5x"
      },
      "execution_count": 96,
      "outputs": []
    },
    {
      "cell_type": "code",
      "source": [
        "url = 'https://raw.githubusercontent.com/DjengoFang/Financial-Engineering-Ruppert-Matteson-/main/datasets/EuStockMarkets.csv'\n",
        "data = pd.read_csv(url)\n",
        "data.head(5)"
      ],
      "metadata": {
        "colab": {
          "base_uri": "https://localhost:8080/",
          "height": 206
        },
        "id": "yeUqXrkr32vV",
        "outputId": "e906b495-66bd-4469-bd3c-9ea11d432d3b"
      },
      "execution_count": 97,
      "outputs": [
        {
          "output_type": "execute_result",
          "data": {
            "text/plain": [
              "       DAX     SMI     CAC    FTSE\n",
              "0  1628.75  1678.1  1772.8  2443.6\n",
              "1  1613.63  1688.5  1750.5  2460.2\n",
              "2  1606.51  1678.6  1718.0  2448.2\n",
              "3  1621.04  1684.1  1708.1  2470.4\n",
              "4  1618.16  1686.6  1723.1  2484.7"
            ],
            "text/html": [
              "\n",
              "  <div id=\"df-82e77467-a727-4983-9805-223b70bfa069\">\n",
              "    <div class=\"colab-df-container\">\n",
              "      <div>\n",
              "<style scoped>\n",
              "    .dataframe tbody tr th:only-of-type {\n",
              "        vertical-align: middle;\n",
              "    }\n",
              "\n",
              "    .dataframe tbody tr th {\n",
              "        vertical-align: top;\n",
              "    }\n",
              "\n",
              "    .dataframe thead th {\n",
              "        text-align: right;\n",
              "    }\n",
              "</style>\n",
              "<table border=\"1\" class=\"dataframe\">\n",
              "  <thead>\n",
              "    <tr style=\"text-align: right;\">\n",
              "      <th></th>\n",
              "      <th>DAX</th>\n",
              "      <th>SMI</th>\n",
              "      <th>CAC</th>\n",
              "      <th>FTSE</th>\n",
              "    </tr>\n",
              "  </thead>\n",
              "  <tbody>\n",
              "    <tr>\n",
              "      <th>0</th>\n",
              "      <td>1628.75</td>\n",
              "      <td>1678.1</td>\n",
              "      <td>1772.8</td>\n",
              "      <td>2443.6</td>\n",
              "    </tr>\n",
              "    <tr>\n",
              "      <th>1</th>\n",
              "      <td>1613.63</td>\n",
              "      <td>1688.5</td>\n",
              "      <td>1750.5</td>\n",
              "      <td>2460.2</td>\n",
              "    </tr>\n",
              "    <tr>\n",
              "      <th>2</th>\n",
              "      <td>1606.51</td>\n",
              "      <td>1678.6</td>\n",
              "      <td>1718.0</td>\n",
              "      <td>2448.2</td>\n",
              "    </tr>\n",
              "    <tr>\n",
              "      <th>3</th>\n",
              "      <td>1621.04</td>\n",
              "      <td>1684.1</td>\n",
              "      <td>1708.1</td>\n",
              "      <td>2470.4</td>\n",
              "    </tr>\n",
              "    <tr>\n",
              "      <th>4</th>\n",
              "      <td>1618.16</td>\n",
              "      <td>1686.6</td>\n",
              "      <td>1723.1</td>\n",
              "      <td>2484.7</td>\n",
              "    </tr>\n",
              "  </tbody>\n",
              "</table>\n",
              "</div>\n",
              "      <button class=\"colab-df-convert\" onclick=\"convertToInteractive('df-82e77467-a727-4983-9805-223b70bfa069')\"\n",
              "              title=\"Convert this dataframe to an interactive table.\"\n",
              "              style=\"display:none;\">\n",
              "        \n",
              "  <svg xmlns=\"http://www.w3.org/2000/svg\" height=\"24px\"viewBox=\"0 0 24 24\"\n",
              "       width=\"24px\">\n",
              "    <path d=\"M0 0h24v24H0V0z\" fill=\"none\"/>\n",
              "    <path d=\"M18.56 5.44l.94 2.06.94-2.06 2.06-.94-2.06-.94-.94-2.06-.94 2.06-2.06.94zm-11 1L8.5 8.5l.94-2.06 2.06-.94-2.06-.94L8.5 2.5l-.94 2.06-2.06.94zm10 10l.94 2.06.94-2.06 2.06-.94-2.06-.94-.94-2.06-.94 2.06-2.06.94z\"/><path d=\"M17.41 7.96l-1.37-1.37c-.4-.4-.92-.59-1.43-.59-.52 0-1.04.2-1.43.59L10.3 9.45l-7.72 7.72c-.78.78-.78 2.05 0 2.83L4 21.41c.39.39.9.59 1.41.59.51 0 1.02-.2 1.41-.59l7.78-7.78 2.81-2.81c.8-.78.8-2.07 0-2.86zM5.41 20L4 18.59l7.72-7.72 1.47 1.35L5.41 20z\"/>\n",
              "  </svg>\n",
              "      </button>\n",
              "      \n",
              "  <style>\n",
              "    .colab-df-container {\n",
              "      display:flex;\n",
              "      flex-wrap:wrap;\n",
              "      gap: 12px;\n",
              "    }\n",
              "\n",
              "    .colab-df-convert {\n",
              "      background-color: #E8F0FE;\n",
              "      border: none;\n",
              "      border-radius: 50%;\n",
              "      cursor: pointer;\n",
              "      display: none;\n",
              "      fill: #1967D2;\n",
              "      height: 32px;\n",
              "      padding: 0 0 0 0;\n",
              "      width: 32px;\n",
              "    }\n",
              "\n",
              "    .colab-df-convert:hover {\n",
              "      background-color: #E2EBFA;\n",
              "      box-shadow: 0px 1px 2px rgba(60, 64, 67, 0.3), 0px 1px 3px 1px rgba(60, 64, 67, 0.15);\n",
              "      fill: #174EA6;\n",
              "    }\n",
              "\n",
              "    [theme=dark] .colab-df-convert {\n",
              "      background-color: #3B4455;\n",
              "      fill: #D2E3FC;\n",
              "    }\n",
              "\n",
              "    [theme=dark] .colab-df-convert:hover {\n",
              "      background-color: #434B5C;\n",
              "      box-shadow: 0px 1px 3px 1px rgba(0, 0, 0, 0.15);\n",
              "      filter: drop-shadow(0px 1px 2px rgba(0, 0, 0, 0.3));\n",
              "      fill: #FFFFFF;\n",
              "    }\n",
              "  </style>\n",
              "\n",
              "      <script>\n",
              "        const buttonEl =\n",
              "          document.querySelector('#df-82e77467-a727-4983-9805-223b70bfa069 button.colab-df-convert');\n",
              "        buttonEl.style.display =\n",
              "          google.colab.kernel.accessAllowed ? 'block' : 'none';\n",
              "\n",
              "        async function convertToInteractive(key) {\n",
              "          const element = document.querySelector('#df-82e77467-a727-4983-9805-223b70bfa069');\n",
              "          const dataTable =\n",
              "            await google.colab.kernel.invokeFunction('convertToInteractive',\n",
              "                                                     [key], {});\n",
              "          if (!dataTable) return;\n",
              "\n",
              "          const docLinkHtml = 'Like what you see? Visit the ' +\n",
              "            '<a target=\"_blank\" href=https://colab.research.google.com/notebooks/data_table.ipynb>data table notebook</a>'\n",
              "            + ' to learn more about interactive tables.';\n",
              "          element.innerHTML = '';\n",
              "          dataTable['output_type'] = 'display_data';\n",
              "          await google.colab.output.renderOutput(dataTable, element);\n",
              "          const docLink = document.createElement('div');\n",
              "          docLink.innerHTML = docLinkHtml;\n",
              "          element.appendChild(docLink);\n",
              "        }\n",
              "      </script>\n",
              "    </div>\n",
              "  </div>\n",
              "  "
            ]
          },
          "metadata": {},
          "execution_count": 97
        }
      ]
    },
    {
      "cell_type": "code",
      "source": [
        "DAX_log = np.diff(np.log(data['DAX']))\n",
        "DAX_log"
      ],
      "metadata": {
        "colab": {
          "base_uri": "https://localhost:8080/"
        },
        "id": "s_Lmgci939qk",
        "outputId": "21dbe011-aeb2-4f29-e011-920797d62ef7"
      },
      "execution_count": 98,
      "outputs": [
        {
          "output_type": "execute_result",
          "data": {
            "text/plain": [
              "array([-0.00932655, -0.00442218,  0.00900379, ...,  0.01895731,\n",
              "       -0.0059412 ,  0.02192215])"
            ]
          },
          "metadata": {},
          "execution_count": 98
        }
      ]
    },
    {
      "cell_type": "markdown",
      "source": [
        "# Problem 6"
      ],
      "metadata": {
        "id": "6fwq2bWOBdO6"
      }
    },
    {
      "cell_type": "code",
      "source": [
        "x = DAX_log\n",
        "\n",
        "def log_like(parameters):\n",
        "  f = -np.sum(stats.t.logpdf(x,parameters[2],parameters[0],parameters[1]))\n",
        "  return f"
      ],
      "metadata": {
        "id": "Cx5Hiv1a4ck4"
      },
      "execution_count": 99,
      "outputs": []
    },
    {
      "cell_type": "code",
      "source": [
        "start = np.array([np.mean(x), np.std(x), 4])\n",
        "bnds = ((-0.1,0.1), (0.001, 1), (2.1, 20))\n",
        "log_like_model = opt.minimize(fun=log_like, x0=start, method='L-BFGS-B',bounds=bnds) "
      ],
      "metadata": {
        "id": "yz4AqLj28feP"
      },
      "execution_count": 100,
      "outputs": []
    },
    {
      "cell_type": "markdown",
      "source": [
        "## Optimize Parameters"
      ],
      "metadata": {
        "id": "o5t5qWQV_3KS"
      }
    },
    {
      "cell_type": "code",
      "source": [
        "parm = log_like_model.x\n",
        "print(parm)"
      ],
      "metadata": {
        "colab": {
          "base_uri": "https://localhost:8080/"
        },
        "id": "RBDazclx_VEM",
        "outputId": "ad6bb74c-52bb-4fa5-e212-d817e567737e"
      },
      "execution_count": 101,
      "outputs": [
        {
          "output_type": "stream",
          "name": "stdout",
          "text": [
            "[7.84723297e-04 7.53880850e-03 4.19454353e+00]\n"
          ]
        }
      ]
    },
    {
      "cell_type": "code",
      "source": [
        "print(log_like_model.hess_inv.todense())"
      ],
      "metadata": {
        "id": "i9TJZ-NVN2aE",
        "outputId": "72bb1a1f-21fd-4825-89a7-25d3664636ec",
        "colab": {
          "base_uri": "https://localhost:8080/"
        }
      },
      "execution_count": 102,
      "outputs": [
        {
          "output_type": "stream",
          "name": "stdout",
          "text": [
            "[[ 2.34195253e-02 -3.16053081e-03 -2.10621112e+01]\n",
            " [-3.16053081e-03  7.08311583e-03 -6.44295406e+00]\n",
            " [-2.10621112e+01 -6.44295406e+00  3.18947440e+04]]\n"
          ]
        }
      ]
    },
    {
      "cell_type": "code",
      "source": [
        "np.linalg.inv(log_like_model.hess_inv.todense())"
      ],
      "metadata": {
        "id": "cQhJyZ47OhGP",
        "outputId": "cd23f409-15b2-479a-850b-028f7f359e95",
        "colab": {
          "base_uri": "https://localhost:8080/"
        }
      },
      "execution_count": 103,
      "outputs": [
        {
          "output_type": "execute_result",
          "data": {
            "text/plain": [
              "array([[2.21982621e+06, 2.84705132e+06, 2.04101489e+03],\n",
              "       [2.84705132e+06, 3.65167559e+06, 2.61775074e+03],\n",
              "       [2.04101489e+03, 2.61775074e+03, 1.87664558e+00]])"
            ]
          },
          "metadata": {},
          "execution_count": 103
        }
      ]
    },
    {
      "cell_type": "code",
      "source": [
        "np.sqrt(np.diag(np.linalg.inv(log_like_model.hess_inv.todense())))"
      ],
      "metadata": {
        "id": "K0jeI80eOmEu",
        "outputId": "7a71e3ff-5ed5-4dc6-e609-c83160310e9b",
        "colab": {
          "base_uri": "https://localhost:8080/"
        }
      },
      "execution_count": 104,
      "outputs": [
        {
          "output_type": "execute_result",
          "data": {
            "text/plain": [
              "array([1.48990812e+03, 1.91093579e+03, 1.36990714e+00])"
            ]
          },
          "metadata": {},
          "execution_count": 104
        }
      ]
    },
    {
      "cell_type": "markdown",
      "source": [
        "## AIC  Akaike information criterion"
      ],
      "metadata": {
        "id": "xVMMrEgQBCF_"
      }
    },
    {
      "cell_type": "code",
      "source": [
        "minus_logL_std = log_like(parm)\n",
        "print(minus_logL_std)"
      ],
      "metadata": {
        "colab": {
          "base_uri": "https://localhost:8080/"
        },
        "id": "HMWX45a4_-1I",
        "outputId": "b59d8126-dc4f-4240-9505-7cb10029c7ef"
      },
      "execution_count": 105,
      "outputs": [
        {
          "output_type": "stream",
          "name": "stdout",
          "text": [
            "-5983.321865930821\n"
          ]
        }
      ]
    },
    {
      "cell_type": "code",
      "source": [
        "AIC_std = 2*minus_logL_std + 2*len(parm)\n",
        "print(AIC_std)"
      ],
      "metadata": {
        "colab": {
          "base_uri": "https://localhost:8080/"
        },
        "id": "ifStibEZAlck",
        "outputId": "2190e37d-4b4d-4dc8-f6b0-204ccce25569"
      },
      "execution_count": 106,
      "outputs": [
        {
          "output_type": "stream",
          "name": "stdout",
          "text": [
            "-11960.643731861643\n"
          ]
        }
      ]
    },
    {
      "cell_type": "markdown",
      "source": [
        "# Problem 7"
      ],
      "metadata": {
        "id": "jjuXbcGcBg9U"
      }
    },
    {
      "cell_type": "code",
      "source": [
        "!pip install sstudentt"
      ],
      "metadata": {
        "colab": {
          "base_uri": "https://localhost:8080/"
        },
        "id": "_sKZ1PZVCTK-",
        "outputId": "19f0900e-4517-4ea7-921d-8bfd486b65fb"
      },
      "execution_count": 107,
      "outputs": [
        {
          "output_type": "stream",
          "name": "stdout",
          "text": [
            "Looking in indexes: https://pypi.org/simple, https://us-python.pkg.dev/colab-wheels/public/simple/\n",
            "Requirement already satisfied: sstudentt in /usr/local/lib/python3.8/dist-packages (0.1.1)\n",
            "Requirement already satisfied: numpy in /usr/local/lib/python3.8/dist-packages (from sstudentt) (1.21.6)\n",
            "Requirement already satisfied: scipy in /usr/local/lib/python3.8/dist-packages (from sstudentt) (1.7.3)\n"
          ]
        }
      ]
    },
    {
      "cell_type": "code",
      "source": [
        "from sstudentt import SST"
      ],
      "metadata": {
        "id": "A0F-fUBcCRp_"
      },
      "execution_count": 108,
      "outputs": []
    },
    {
      "cell_type": "code",
      "source": [
        "def log_like_SST(parameters):\n",
        "  dist = SST(mu = parameters[0], sigma = parameters[1], nu = parameters[2], tau = parameters[3])\n",
        "  f = -np.sum(np.log(dist.p(x)))\n",
        "  return f"
      ],
      "metadata": {
        "id": "rP4Rmp5WCreM"
      },
      "execution_count": 109,
      "outputs": []
    },
    {
      "cell_type": "code",
      "source": [
        "start = np.array([np.mean(x), np.std(x), 4, 1])\n",
        "bnds = ((-0.1,0.1), (0.001, 1), (2.1, 20), (0.25, 4))\n",
        "log_like_model = opt.minimize(fun=log_like_SST, x0=start, method='L-BFGS-B',bounds=bnds) "
      ],
      "metadata": {
        "id": "S8I7zU9dEEIx",
        "outputId": "035c2e69-764a-44d3-a2da-b5f076ba3197",
        "colab": {
          "base_uri": "https://localhost:8080/"
        }
      },
      "execution_count": 110,
      "outputs": [
        {
          "output_type": "stream",
          "name": "stderr",
          "text": [
            "/usr/local/lib/python3.8/dist-packages/sstudentt/sstudentt.py:32: RuntimeWarning: divide by zero encountered in double_scalars\n",
            "  self.m = ((2 * self.tau ** 0.5) * (self.nu - self.nu ** -1)) / (\n",
            "/usr/local/lib/python3.8/dist-packages/sstudentt/sstudentt.py:36: RuntimeWarning: invalid value encountered in sqrt\n",
            "  self.mu_0 = self.mu - (self.sigma * self.m / np.sqrt(self.s2))\n",
            "/usr/local/lib/python3.8/dist-packages/sstudentt/sstudentt.py:37: RuntimeWarning: invalid value encountered in sqrt\n",
            "  self.sigma_0 = self.sigma / np.sqrt(self.s2)\n"
          ]
        }
      ]
    },
    {
      "cell_type": "markdown",
      "source": [
        "## Optimize Parameters"
      ],
      "metadata": {
        "id": "TWeySDCEEe7Z"
      }
    },
    {
      "cell_type": "code",
      "source": [
        "parm2 = log_like_model.x\n",
        "print(parm2)"
      ],
      "metadata": {
        "colab": {
          "base_uri": "https://localhost:8080/"
        },
        "id": "6BZieKi6ET_z",
        "outputId": "64c1b74c-cd40-416b-9d67-14399bfbf544"
      },
      "execution_count": 111,
      "outputs": [
        {
          "output_type": "stream",
          "name": "stdout",
          "text": [
            "[6.52041748e-04 1.02980657e-02 4.00000000e+00 1.00000000e+00]\n"
          ]
        }
      ]
    },
    {
      "cell_type": "markdown",
      "source": [
        "## AIC  Akaike information criterion"
      ],
      "metadata": {
        "id": "ywF0bXSgEo1w"
      }
    },
    {
      "cell_type": "code",
      "source": [
        "minus_logL_std = log_like(parm2)\n",
        "print(minus_logL_std)\n",
        "AIC_std = 2*minus_logL_std + 2*len(parm2)\n",
        "print(AIC_std)"
      ],
      "metadata": {
        "colab": {
          "base_uri": "https://localhost:8080/"
        },
        "id": "GTCpR-bsEinf",
        "outputId": "022d74b2-4638-4362-a2b0-37a642782fdd"
      },
      "execution_count": 112,
      "outputs": [
        {
          "output_type": "stream",
          "name": "stdout",
          "text": [
            "-5881.7649996542705\n",
            "-11755.529999308541\n"
          ]
        }
      ]
    },
    {
      "cell_type": "markdown",
      "source": [
        "# Problem 8\n",
        "## TKDE\n",
        "### Transform by Student-T distribution"
      ],
      "metadata": {
        "id": "I1fRDsJcHYTJ"
      }
    },
    {
      "cell_type": "code",
      "source": [
        "df = parm[2]\n",
        "loc = parm[0]\n",
        "scale = parm[1]\n",
        "print(df, loc, scale)"
      ],
      "metadata": {
        "id": "lhe7VwZHHZx5",
        "outputId": "cbcaee37-c4ae-4819-a8a5-1af6ab13e653",
        "colab": {
          "base_uri": "https://localhost:8080/"
        }
      },
      "execution_count": 113,
      "outputs": [
        {
          "output_type": "stream",
          "name": "stdout",
          "text": [
            "4.194543526907325 0.0007847232974708594 0.007538808498785821\n"
          ]
        }
      ]
    },
    {
      "cell_type": "code",
      "source": [
        "x1 = stats.t.cdf(x, df=df, loc=loc, scale=scale)\n",
        "x2 = stats.norm.ppf(x1)"
      ],
      "metadata": {
        "id": "OGg1tvSjH3ra"
      },
      "execution_count": 114,
      "outputs": []
    },
    {
      "cell_type": "code",
      "source": [
        "eval_points1 = np.linspace(np.min(x), np.max(x), num=1000)\n",
        "eval_points2 = np.linspace(np.min(x2), np.max(x2), num=1000)\n",
        "kde1 = stats.gaussian_kde(x)\n",
        "d1y = kde1.pdf(eval_points1)\n",
        "\n",
        "kde2 = stats.gaussian_kde(x2)\n",
        "d2x = stats.norm.cdf(eval_points2)\n",
        "d2y = kde2.pdf(eval_points2)"
      ],
      "metadata": {
        "id": "HDDhVy4dIa0N"
      },
      "execution_count": 115,
      "outputs": []
    },
    {
      "cell_type": "code",
      "source": [
        "ginvx = stats.t.ppf(d2x, df=df, loc=loc, scale=scale)\n",
        "gprime_num = stats.t.pdf(ginvx, df=df, loc=loc, scale=scale)\n",
        "gprime_den =  stats.norm.pdf(stats.norm.ppf(stats.t.cdf(ginvx, df=df, loc=loc, scale=scale)))\n",
        "gprime = gprime_num / gprime_den"
      ],
      "metadata": {
        "id": "UZiXla8AJdBK"
      },
      "execution_count": 116,
      "outputs": []
    },
    {
      "cell_type": "code",
      "source": [
        "plt.figure(figsize=(16,8))\n",
        "plt.hist(x, bins='auto',density=True, color = \"lightgrey\")\n",
        "sns.kdeplot(x)\n",
        "plt.plot(eval_points1, d1y, linewidth=3, color = \"yellow\")\n",
        "plt.plot(ginvx, d2y * gprime, linestyle=\"dashdot\", linewidth=3, color = \"red\")\n",
        "plt.legend(['KDE(sns)', 'KDE', 'TKDE'])"
      ],
      "metadata": {
        "id": "MeAcbvIMLCWd",
        "outputId": "6d3b8872-1ccd-4ba3-b572-650841ee133f",
        "colab": {
          "base_uri": "https://localhost:8080/",
          "height": 500
        }
      },
      "execution_count": 117,
      "outputs": [
        {
          "output_type": "execute_result",
          "data": {
            "text/plain": [
              "<matplotlib.legend.Legend at 0x7f83bdb63e50>"
            ]
          },
          "metadata": {},
          "execution_count": 117
        },
        {
          "output_type": "display_data",
          "data": {
            "text/plain": [
              "<Figure size 1152x576 with 1 Axes>"
            ],
            "image/png": "[encoded data removed]"
          },
          "metadata": {
            "needs_background": "light"
          }
        }
      ]
    },
    {
      "cell_type": "markdown",
      "source": [
        "# Problem 9"
      ],
      "metadata": {
        "id": "pqeKdfIbQf-V"
      }
    },
    {
      "cell_type": "code",
      "source": [
        "plt.figure(figsize=(16,8))\n",
        "plt.hist(x, bins='auto',density=True, color = \"lightgrey\")\n",
        "sns.kdeplot(x)\n",
        "plt.plot(eval_points1, d1y, linewidth=3, color = \"yellow\")\n",
        "plt.plot(ginvx, d2y * gprime, linestyle=\"dashdot\", linewidth=3, color = \"red\")\n",
        "plt.legend(['KDE(sns)', 'KDE', 'TKDE'])\n",
        "plt.xlim(0.01, 0.06)\n",
        "plt.ylim(0, 25)"
      ],
      "metadata": {
        "id": "3MBDceWdPnbr",
        "outputId": "1e9af9b8-50d3-4019-9c17-01d6c831453c",
        "colab": {
          "base_uri": "https://localhost:8080/",
          "height": 504
        }
      },
      "execution_count": 118,
      "outputs": [
        {
          "output_type": "execute_result",
          "data": {
            "text/plain": [
              "(0.0, 25.0)"
            ]
          },
          "metadata": {},
          "execution_count": 118
        },
        {
          "output_type": "display_data",
          "data": {
            "text/plain": [
              "<Figure size 1152x576 with 1 Axes>"
            ],
            "image/png": "[encoded data removed]"
          },
          "metadata": {
            "needs_background": "light"
          }
        }
      ]
    },
    {
      "cell_type": "markdown",
      "source": [
        "# Problem 10"
      ],
      "metadata": {
        "id": "zzddiG3zQ1QS"
      }
    },
    {
      "cell_type": "code",
      "source": [
        "FTSE_log = np.diff(np.log(data['FTSE']))\n",
        "FTSE_log"
      ],
      "metadata": {
        "id": "WXKw_yxtQ1Fx",
        "outputId": "d912505c-506f-47e7-b330-80621c3d680e",
        "colab": {
          "base_uri": "https://localhost:8080/"
        }
      },
      "execution_count": 119,
      "outputs": [
        {
          "output_type": "execute_result",
          "data": {
            "text/plain": [
              "array([ 0.00677029, -0.00488959,  0.00902702, ...,  0.00539698,\n",
              "       -0.01154528,  0.01022626])"
            ]
          },
          "metadata": {},
          "execution_count": 119
        }
      ]
    },
    {
      "cell_type": "code",
      "source": [
        "def log_like_SST2(parameters):\n",
        "  dist = SST(mu = parameters[0], sigma = parameters[1], nu = parameters[2], tau = parameters[3])\n",
        "  f = -np.sum(np.log(dist.p(FTSE_log)))\n",
        "  return f"
      ],
      "metadata": {
        "id": "yIlydwZQRAbs"
      },
      "execution_count": 120,
      "outputs": []
    },
    {
      "cell_type": "code",
      "source": [
        "start = np.array([np.mean(FTSE_log), np.std(FTSE_log), 4, 1])\n",
        "log_like_model2 = opt.minimize(fun=log_like_SST2, x0=start, method='L-BFGS-B') "
      ],
      "metadata": {
        "id": "W3Bx_tduRJsT",
        "outputId": "e9244f08-5da5-4555-9106-1237cb7f8876",
        "colab": {
          "base_uri": "https://localhost:8080/"
        }
      },
      "execution_count": 121,
      "outputs": [
        {
          "output_type": "stream",
          "name": "stderr",
          "text": [
            "/usr/local/lib/python3.8/dist-packages/sstudentt/sstudentt.py:32: RuntimeWarning: divide by zero encountered in double_scalars\n",
            "  self.m = ((2 * self.tau ** 0.5) * (self.nu - self.nu ** -1)) / (\n",
            "/usr/local/lib/python3.8/dist-packages/sstudentt/sstudentt.py:36: RuntimeWarning: invalid value encountered in sqrt\n",
            "  self.mu_0 = self.mu - (self.sigma * self.m / np.sqrt(self.s2))\n",
            "/usr/local/lib/python3.8/dist-packages/sstudentt/sstudentt.py:37: RuntimeWarning: invalid value encountered in sqrt\n",
            "  self.sigma_0 = self.sigma / np.sqrt(self.s2)\n"
          ]
        }
      ]
    },
    {
      "cell_type": "markdown",
      "source": [
        "## Optimize Parameters"
      ],
      "metadata": {
        "id": "N134A32ZSFYj"
      }
    },
    {
      "cell_type": "code",
      "source": [
        "parm3 = log_like_model2.x\n",
        "print(parm3)"
      ],
      "metadata": {
        "id": "hkrvXpVTRvw_",
        "outputId": "89240574-dc29-43a6-aec5-e8a15c69932e",
        "colab": {
          "base_uri": "https://localhost:8080/"
        }
      },
      "execution_count": 122,
      "outputs": [
        {
          "output_type": "stream",
          "name": "stdout",
          "text": [
            "[4.31985077e-04 7.95558721e-03 4.00000000e+00 1.00000000e+00]\n"
          ]
        }
      ]
    },
    {
      "cell_type": "markdown",
      "source": [
        "## AIC  Akaike information criterion"
      ],
      "metadata": {
        "id": "rQtlsOBSSFYk"
      }
    },
    {
      "cell_type": "code",
      "source": [
        "minus_logL_std = log_like(parm2)\n",
        "print(\"minus_logL_std = \"+str(minus_logL_std))\n",
        "AIC_std = 2*minus_logL_std + 2*len(parm2)\n",
        "print(\"AIC_std = \"+str(AIC_std))"
      ],
      "metadata": {
        "id": "eLcm7wyjR1ii",
        "outputId": "91cbcef3-f0a9-4949-806d-7c583745a03e",
        "colab": {
          "base_uri": "https://localhost:8080/"
        }
      },
      "execution_count": 123,
      "outputs": [
        {
          "output_type": "stream",
          "name": "stdout",
          "text": [
            "minus_logL_std = -5881.7649996542705\n",
            "AIC_std = -11755.529999308541\n"
          ]
        }
      ]
    },
    {
      "cell_type": "markdown",
      "source": [
        "## BIC Bayesian information criterion"
      ],
      "metadata": {
        "id": "2bkR7ZztUGAl"
      }
    },
    {
      "cell_type": "code",
      "source": [
        "BIC_std = 2*minus_logL_std + math.log(len(FTSE_log))*len(parm2)\n",
        "print(\"n = \"+str(len(FTSE_log)))\n",
        "print(\"log(n) = \"+str(math.log(len(FTSE_log))))\n",
        "print(\"BIC_std = \"+str(BIC_std))"
      ],
      "metadata": {
        "id": "h8SVEGixUF2N",
        "outputId": "53b0bdf8-0318-4968-98c1-796fa7c43411",
        "colab": {
          "base_uri": "https://localhost:8080/"
        }
      },
      "execution_count": 124,
      "outputs": [
        {
          "output_type": "stream",
          "name": "stdout",
          "text": [
            "n = 1859\n",
            "log(n) = 7.527793987721444\n",
            "BIC_std = -11733.418823357655\n"
          ]
        }
      ]
    }
  ]
}