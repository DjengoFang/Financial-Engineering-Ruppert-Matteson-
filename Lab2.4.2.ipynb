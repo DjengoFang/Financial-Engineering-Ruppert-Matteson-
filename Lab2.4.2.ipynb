{
  "nbformat": 4,
  "nbformat_minor": 0,
  "metadata": {
    "colab": {
      "provenance": [],
      "authorship_tag": "ABX9TyNrqti3BlytVzh10+uexxKG",
      "include_colab_link": true
    },
    "kernelspec": {
      "name": "python3",
      "display_name": "Python 3"
    },
    "language_info": {
      "name": "python"
    }
  },
  "cells": [
    {
      "cell_type": "markdown",
      "metadata": {
        "id": "view-in-github",
        "colab_type": "text"
      },
      "source": [
        "<a href=\"https://colab.research.google.com/github/DjengoFang/Financial-Engineering-Ruppert-Matteson-/blob/main/Lab2.4.2.ipynb\" target=\"_parent\"><img src=\"https://colab.research.google.com/assets/colab-badge.svg\" alt=\"Open In Colab\"/></a>"
      ]
    },
    {
      "cell_type": "code",
      "execution_count": 57,
      "metadata": {
        "id": "yyWkRUHYmAvh"
      },
      "outputs": [],
      "source": [
        "import pandas as pd\n",
        "import numpy as np\n",
        "import matplotlib.pyplot as plt\n",
        "import math"
      ]
    },
    {
      "cell_type": "code",
      "source": [
        "iter = 100000\n",
        "o_price = 1000000\n",
        "mean_year = 0.05\n",
        "std_year = 0.23\n",
        "trading_day = 253\n",
        "mean_day = mean_year/trading_day\n",
        "std_day = std_year/math.sqrt(trading_day)"
      ],
      "metadata": {
        "id": "ff8KYaq_nMmL"
      },
      "execution_count": 58,
      "outputs": []
    },
    {
      "cell_type": "code",
      "source": [
        "r = np.random.normal(loc=mean_day, scale=std_day, size=10000)\n",
        "print(r)\n",
        "cr = np.cumsum(r)\n",
        "print(cr)\n",
        "plt.hist(r, density=True, bins=30)  # density=False would make counts\n",
        "plt.ylabel('Probability')\n",
        "plt.xlabel('Data')\n",
        "plt.show()"
      ],
      "metadata": {
        "colab": {
          "base_uri": "https://localhost:8080/",
          "height": 348
        },
        "id": "cG4673NmrTMh",
        "outputId": "6a9407f3-b654-46c2-c3d2-50151e9be71a"
      },
      "execution_count": 59,
      "outputs": [
        {
          "output_type": "stream",
          "name": "stdout",
          "text": [
            "[-0.01014824  0.00578791  0.00870491 ... -0.01845615  0.01062699\n",
            " -0.00120192]\n",
            "[-0.01014824 -0.00436032  0.00434459 ...  1.55047514  1.56110213\n",
            "  1.55990021]\n"
          ]
        },
        {
          "output_type": "display_data",
          "data": {
            "text/plain": [
              "<Figure size 432x288 with 1 Axes>"
            ],
            "image/png": "[encoded data removed]"
          },
          "metadata": {
            "needs_background": "light"
          }
        }
      ]
    },
    {
      "cell_type": "code",
      "source": [
        "# Problem 4\n",
        "below = np.zeros(iter)\n",
        "bottom_line = 950000\n",
        "day = 45\n",
        "\n",
        "for i in range(len(below)):\n",
        "  r = np.random.normal(loc=mean_day, scale=std_day, size=day)\n",
        "  logPrice = np.log(o_price) + np.cumsum(r)\n",
        "  if logPrice.min() < np.log(bottom_line):\n",
        "    below[i] = 1\n",
        "\n",
        "print(below.mean())"
      ],
      "metadata": {
        "colab": {
          "base_uri": "https://localhost:8080/"
        },
        "id": "nytBdPHDnNNc",
        "outputId": "20210113-0b3c-4b1b-e6a6-a8d6d793c41e"
      },
      "execution_count": 60,
      "outputs": [
        {
          "output_type": "stream",
          "name": "stdout",
          "text": [
            "0.50803\n"
          ]
        }
      ]
    },
    {
      "cell_type": "code",
      "source": [
        "# Problem 5\n",
        "above = np.zeros(iter)\n",
        "celing = 1100000\n",
        "bottom_line = 950000\n",
        "day = 100\n",
        "\n",
        "for i in range(len(above)):\n",
        "  r = np.random.normal(loc=mean_day, scale=std_day, size=day)\n",
        "  logPrice = np.log(o_price) + np.cumsum(r)\n",
        "  for j in range(len(logPrice)):\n",
        "    if logPrice[j] < np.log(bottom_line):\n",
        "      break\n",
        "    elif logPrice[j] > np.log(celing):\n",
        "      above[i] = 1\n",
        "      break\n",
        "\n",
        "print(above.mean())"
      ],
      "metadata": {
        "colab": {
          "base_uri": "https://localhost:8080/"
        },
        "id": "e9HeB22ks_3K",
        "outputId": "753f2102-07b5-446d-f343-ab4113a239c8"
      },
      "execution_count": 66,
      "outputs": [
        {
          "output_type": "stream",
          "name": "stdout",
          "text": [
            "0.3904\n"
          ]
        }
      ]
    },
    {
      "cell_type": "code",
      "source": [
        "# Problem 6\n",
        "below = np.zeros(iter)\n",
        "celing = 1100000\n",
        "bottom_line = 950000\n",
        "middle_line = 1000000\n",
        "day = 100\n",
        "\n",
        "for i in range(len(below)):\n",
        "  flag = 0\n",
        "  r = np.random.normal(loc=mean_day, scale=std_day, size=day)\n",
        "  logPrice = np.log(o_price) + np.cumsum(r)\n",
        "  for j in range(len(logPrice)):\n",
        "    if logPrice[j] < np.log(bottom_line):\n",
        "      below[i] = 1\n",
        "      flag = 1\n",
        "      break\n",
        "    elif logPrice[j] > np.log(celing):\n",
        "      flag = 1\n",
        "      break\n",
        "  if flag == 0 and logPrice[-1]< np.log(middle_line):\n",
        "    below[i] = 1\n",
        "\n",
        "print(below.mean())"
      ],
      "metadata": {
        "colab": {
          "base_uri": "https://localhost:8080/"
        },
        "id": "oXxii7zBtXLJ",
        "outputId": "ad8284b2-0a69-4ab6-c19d-c79c2c3163fa"
      },
      "execution_count": 69,
      "outputs": [
        {
          "output_type": "stream",
          "name": "stdout",
          "text": [
            "0.58988\n"
          ]
        }
      ]
    },
    {
      "cell_type": "code",
      "source": [
        "# Problem 7\n",
        "profit = np.zeros(iter)\n",
        "celing = 1100000\n",
        "bottom_line = 950000\n",
        "day = 100\n",
        "\n",
        "for i in range(len(profit)):\n",
        "  flag = 1\n",
        "  r = np.random.normal(loc=mean_day, scale=std_day, size=day)\n",
        "  logPrice = np.log(o_price) + np.cumsum(r)\n",
        "  for j in range(len(logPrice)):\n",
        "    if logPrice[j] < np.log(bottom_line):\n",
        "      profit[i] = logPrice[j]\n",
        "      flag = 1\n",
        "      break\n",
        "    elif logPrice[j] > np.log(celing):\n",
        "      profit[i] = logPrice[j]\n",
        "      flag = 1\n",
        "      break\n",
        "  if flag == 0:\n",
        "    profit[i] = logPrice[-1]\n",
        "  \n",
        "print(np.exp(profit.mean()) - o_price)"
      ],
      "metadata": {
        "colab": {
          "base_uri": "https://localhost:8080/"
        },
        "id": "1NEEjrNbtn9e",
        "outputId": "3e4b68d9-bf18-44ce-c4a6-67bd1a3fc4e5"
      },
      "execution_count": 73,
      "outputs": [
        {
          "output_type": "stream",
          "name": "stdout",
          "text": [
            "-292676.36289204704\n"
          ]
        }
      ]
    },
    {
      "cell_type": "code",
      "source": [
        "# Problem 8\n",
        "log_return = np.zeros(iter)\n",
        "date = np.zeros(iter)\n",
        "invest = 50000\n",
        "celing = 1100000\n",
        "bottom_line = 950000\n",
        "day = 100\n",
        "\n",
        "for i in range(len(profit)):\n",
        "  flag = 0\n",
        "  r = np.random.normal(loc=mean_day, scale=std_day, size=day)\n",
        "  logPrice = np.log(o_price) + np.cumsum(r)\n",
        "  for j in range(len(logPrice)):\n",
        "    if logPrice[j] < np.log(bottom_line):\n",
        "      log_return[i] = logPrice[j]\n",
        "      flag = 1\n",
        "      date[i] = j+1\n",
        "      break\n",
        "    elif logPrice[j] > np.log(celing):\n",
        "      log_return[i] = logPrice[j]\n",
        "      flag = 1\n",
        "      date[i] = j+1\n",
        "      break\n",
        "  if flag == 0:\n",
        "    log_return[i] = logPrice[-1]\n",
        "    date[i] = day\n",
        "\n",
        "daily_log_return = (log_return - np.log(invest))/date\n",
        "print(daily_log_return.mean())"
      ],
      "metadata": {
        "colab": {
          "base_uri": "https://localhost:8080/"
        },
        "id": "x_QO6oar2WUW",
        "outputId": "7c05abe1-d517-48b3-9c87-1a3f737bfb88"
      },
      "execution_count": 85,
      "outputs": [
        {
          "output_type": "stream",
          "name": "stdout",
          "text": [
            "0.20527994745675654\n"
          ]
        }
      ]
    }
  ]
}