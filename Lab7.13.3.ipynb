{
  "nbformat": 4,
  "nbformat_minor": 0,
  "metadata": {
    "colab": {
      "provenance": [],
      "authorship_tag": "ABX9TyO5EX0+O5PfBW5uzTUMXtFj",
      "include_colab_link": true
    },
    "kernelspec": {
      "name": "python3",
      "display_name": "Python 3"
    },
    "language_info": {
      "name": "python"
    }
  },
  "cells": [
    {
      "cell_type": "markdown",
      "metadata": {
        "id": "view-in-github",
        "colab_type": "text"
      },
      "source": [
        "<a href=\"https://colab.research.google.com/github/DjengoFang/Financial-Engineering-Ruppert-Matteson-/blob/main/Lab7.13.3.ipynb\" target=\"_parent\"><img src=\"https://colab.research.google.com/assets/colab-badge.svg\" alt=\"Open In Colab\"/></a>"
      ]
    },
    {
      "cell_type": "code",
      "execution_count": 1,
      "metadata": {
        "id": "-V3poRgObEFj"
      },
      "outputs": [],
      "source": [
        "import pandas as pd\n",
        "import numpy as np\n",
        "from numpy import random as rand\n",
        "import matplotlib.pyplot as plt\n",
        "import math\n",
        "from scipy.stats import multivariate_t\n",
        "import seaborn as sns"
      ]
    },
    {
      "cell_type": "markdown",
      "source": [
        "# Problem 6"
      ],
      "metadata": {
        "id": "9xWZVd8JbL1o"
      }
    },
    {
      "cell_type": "code",
      "source": [
        "rv = multivariate_t([0.001, 0.002], [[0.1, 0.03], [0.03, 0.15]], df=5)\n",
        "sample = rv.rvs(size=10000)\n",
        "x, y = np.hsplit(sample,2)\n",
        "R = (x+y)/2"
      ],
      "metadata": {
        "id": "NL-8HG4ybGDK"
      },
      "execution_count": 2,
      "outputs": []
    },
    {
      "cell_type": "markdown",
      "source": [
        "## Distribution of Return"
      ],
      "metadata": {
        "id": "uHx2I1DVdwI7"
      }
    },
    {
      "cell_type": "code",
      "source": [
        "plt.boxplot(R)"
      ],
      "metadata": {
        "colab": {
          "base_uri": "https://localhost:8080/",
          "height": 404
        },
        "id": "UV1W_RVecTd3",
        "outputId": "f91d1de1-13d7-40aa-831d-a8c4f200b8cf"
      },
      "execution_count": 3,
      "outputs": [
        {
          "output_type": "execute_result",
          "data": {
            "text/plain": [
              "{'whiskers': [<matplotlib.lines.Line2D at 0x7f9db79c35b0>,\n",
              "  <matplotlib.lines.Line2D at 0x7f9db79c3910>],\n",
              " 'caps': [<matplotlib.lines.Line2D at 0x7f9db79c3c70>,\n",
              "  <matplotlib.lines.Line2D at 0x7f9db79c3fd0>],\n",
              " 'boxes': [<matplotlib.lines.Line2D at 0x7f9db79c3250>],\n",
              " 'medians': [<matplotlib.lines.Line2D at 0x7f9db79d0370>],\n",
              " 'fliers': [<matplotlib.lines.Line2D at 0x7f9db79d0670>],\n",
              " 'means': []}"
            ]
          },
          "metadata": {},
          "execution_count": 3
        },
        {
          "output_type": "display_data",
          "data": {
            "text/plain": [
              "<Figure size 432x288 with 1 Axes>"
            ],
            "image/png": "[encoded data removed]"
          },
          "metadata": {
            "needs_background": "light"
          }
        }
      ]
    },
    {
      "cell_type": "code",
      "source": [
        "plt.figure(figsize=(16,8))\n",
        "plt.hist(R, bins=500)"
      ],
      "metadata": {
        "colab": {
          "base_uri": "https://localhost:8080/",
          "height": 1000
        },
        "id": "cvM2Z0GWeUd3",
        "outputId": "04d5ed90-2032-479c-f277-371b1248c7c0"
      },
      "execution_count": 4,
      "outputs": [
        {
          "output_type": "execute_result",
          "data": {
            "text/plain": [
              "(array([  1.,   0.,   0.,   0.,   0.,   0.,   0.,   0.,   0.,   0.,   0.,\n",
              "          0.,   0.,   0.,   0.,   0.,   0.,   0.,   0.,   0.,   0.,   0.,\n",
              "          0.,   0.,   1.,   0.,   1.,   0.,   0.,   0.,   0.,   0.,   0.,\n",
              "          0.,   0.,   0.,   0.,   0.,   0.,   0.,   0.,   0.,   0.,   1.,\n",
              "          0.,   0.,   0.,   0.,   0.,   0.,   0.,   0.,   0.,   0.,   0.,\n",
              "          0.,   1.,   0.,   0.,   0.,   0.,   0.,   0.,   0.,   0.,   0.,\n",
              "          0.,   0.,   0.,   0.,   0.,   0.,   0.,   0.,   0.,   0.,   0.,\n",
              "          0.,   0.,   1.,   0.,   1.,   0.,   0.,   1.,   0.,   0.,   1.,\n",
              "          1.,   0.,   1.,   1.,   1.,   1.,   0.,   0.,   0.,   0.,   0.,\n",
              "          0.,   0.,   0.,   0.,   1.,   0.,   0.,   1.,   2.,   1.,   0.,\n",
              "          0.,   0.,   0.,   3.,   0.,   1.,   0.,   0.,   0.,   0.,   0.,\n",
              "          0.,   0.,   4.,   1.,   1.,   2.,   1.,   5.,   2.,   1.,   2.,\n",
              "          4.,   3.,   0.,   1.,   1.,   2.,   2.,   6.,   3.,   2.,   2.,\n",
              "          3.,   6.,   3.,   0.,   3.,   3.,   8.,   3.,   7.,   3.,   3.,\n",
              "          8.,   3.,   0.,   9.,   3.,   9.,   4.,   8.,   3.,   5.,  13.,\n",
              "          5.,   7.,   6.,  15.,  10.,   6.,  11.,   7.,  12.,  15.,  12.,\n",
              "         10.,   8.,  17.,  19.,  18.,  13.,  17.,  18.,  20.,  25.,  16.,\n",
              "         30.,  19.,  25.,  20.,  31.,  29.,  31.,  28.,  31.,  37.,  40.,\n",
              "         34.,  36.,  41.,  47.,  59.,  51.,  58.,  42.,  56.,  57.,  52.,\n",
              "         43.,  68.,  65.,  64.,  60.,  65.,  84.,  79.,  78.,  91.,  83.,\n",
              "         87.,  98.,  88., 110., 103., 100., 103., 108., 100., 109., 121.,\n",
              "        128., 117., 122., 134., 131., 128., 115., 133., 144., 152., 132.,\n",
              "        146., 133., 134., 146., 157., 149., 125., 142., 113., 117., 128.,\n",
              "        122., 132., 119., 128., 126., 123., 122., 119., 100., 103., 102.,\n",
              "         92.,  91.,  99., 102., 102.,  78.,  78.,  88.,  70.,  71.,  79.,\n",
              "         86.,  72.,  67.,  63.,  55.,  56.,  57.,  62.,  62.,  46.,  58.,\n",
              "         40.,  44.,  36.,  30.,  34.,  34.,  24.,  22.,  39.,  34.,  29.,\n",
              "         31.,  22.,  20.,  16.,  23.,  19.,  18.,  13.,   8.,  12.,  20.,\n",
              "         16.,  14.,  16.,  15.,  12.,   8.,   7.,  15.,   9.,   5.,  11.,\n",
              "         12.,  15.,  10.,   4.,   7.,   3.,  12.,   9.,   3.,   8.,   5.,\n",
              "          6.,   3.,   5.,   5.,   6.,   4.,   4.,   7.,   3.,   1.,   4.,\n",
              "          3.,   7.,   2.,   4.,   2.,   2.,   2.,   4.,   1.,   3.,   1.,\n",
              "          5.,   0.,   1.,   1.,   2.,   4.,   0.,   1.,   1.,   2.,   2.,\n",
              "          0.,   2.,   1.,   3.,   1.,   1.,   1.,   1.,   0.,   2.,   0.,\n",
              "          1.,   1.,   0.,   0.,   1.,   2.,   1.,   0.,   0.,   0.,   2.,\n",
              "          0.,   1.,   0.,   0.,   0.,   0.,   0.,   1.,   1.,   0.,   0.,\n",
              "          1.,   1.,   0.,   0.,   0.,   0.,   0.,   0.,   0.,   0.,   1.,\n",
              "          0.,   0.,   1.,   0.,   0.,   1.,   0.,   2.,   0.,   0.,   0.,\n",
              "          1.,   1.,   0.,   0.,   1.,   0.,   0.,   0.,   0.,   1.,   0.,\n",
              "          0.,   0.,   0.,   0.,   0.,   0.,   0.,   0.,   0.,   0.,   0.,\n",
              "          0.,   0.,   0.,   1.,   0.,   0.,   0.,   0.,   0.,   0.,   0.,\n",
              "          0.,   0.,   0.,   0.,   0.,   0.,   1.,   0.,   0.,   0.,   1.,\n",
              "          0.,   0.,   0.,   0.,   0.,   0.,   0.,   0.,   0.,   0.,   0.,\n",
              "          0.,   0.,   1.,   0.,   0.,   0.,   0.,   0.,   0.,   0.,   0.,\n",
              "          0.,   0.,   0.,   0.,   0.,   0.,   0.,   0.,   0.,   0.,   0.,\n",
              "          0.,   0.,   0.,   0.,   1.]),\n",
              " array([-2.45823565e+00, -2.44815502e+00, -2.43807438e+00, -2.42799375e+00,\n",
              "        -2.41791311e+00, -2.40783248e+00, -2.39775184e+00, -2.38767121e+00,\n",
              "        -2.37759058e+00, -2.36750994e+00, -2.35742931e+00, -2.34734867e+00,\n",
              "        -2.33726804e+00, -2.32718740e+00, -2.31710677e+00, -2.30702613e+00,\n",
              "        -2.29694550e+00, -2.28686486e+00, -2.27678423e+00, -2.26670359e+00,\n",
              "        -2.25662296e+00, -2.24654232e+00, -2.23646169e+00, -2.22638105e+00,\n",
              "        -2.21630042e+00, -2.20621978e+00, -2.19613915e+00, -2.18605851e+00,\n",
              "        -2.17597788e+00, -2.16589724e+00, -2.15581661e+00, -2.14573597e+00,\n",
              "        -2.13565534e+00, -2.12557470e+00, -2.11549407e+00, -2.10541343e+00,\n",
              "        -2.09533280e+00, -2.08525217e+00, -2.07517153e+00, -2.06509090e+00,\n",
              "        -2.05501026e+00, -2.04492963e+00, -2.03484899e+00, -2.02476836e+00,\n",
              "        -2.01468772e+00, -2.00460709e+00, -1.99452645e+00, -1.98444582e+00,\n",
              "        -1.97436518e+00, -1.96428455e+00, -1.95420391e+00, -1.94412328e+00,\n",
              "        -1.93404264e+00, -1.92396201e+00, -1.91388137e+00, -1.90380074e+00,\n",
              "        -1.89372010e+00, -1.88363947e+00, -1.87355883e+00, -1.86347820e+00,\n",
              "        -1.85339756e+00, -1.84331693e+00, -1.83323629e+00, -1.82315566e+00,\n",
              "        -1.81307502e+00, -1.80299439e+00, -1.79291375e+00, -1.78283312e+00,\n",
              "        -1.77275249e+00, -1.76267185e+00, -1.75259122e+00, -1.74251058e+00,\n",
              "        -1.73242995e+00, -1.72234931e+00, -1.71226868e+00, -1.70218804e+00,\n",
              "        -1.69210741e+00, -1.68202677e+00, -1.67194614e+00, -1.66186550e+00,\n",
              "        -1.65178487e+00, -1.64170423e+00, -1.63162360e+00, -1.62154296e+00,\n",
              "        -1.61146233e+00, -1.60138169e+00, -1.59130106e+00, -1.58122042e+00,\n",
              "        -1.57113979e+00, -1.56105915e+00, -1.55097852e+00, -1.54089788e+00,\n",
              "        -1.53081725e+00, -1.52073661e+00, -1.51065598e+00, -1.50057534e+00,\n",
              "        -1.49049471e+00, -1.48041408e+00, -1.47033344e+00, -1.46025281e+00,\n",
              "        -1.45017217e+00, -1.44009154e+00, -1.43001090e+00, -1.41993027e+00,\n",
              "        -1.40984963e+00, -1.39976900e+00, -1.38968836e+00, -1.37960773e+00,\n",
              "        -1.36952709e+00, -1.35944646e+00, -1.34936582e+00, -1.33928519e+00,\n",
              "        -1.32920455e+00, -1.31912392e+00, -1.30904328e+00, -1.29896265e+00,\n",
              "        -1.28888201e+00, -1.27880138e+00, -1.26872074e+00, -1.25864011e+00,\n",
              "        -1.24855947e+00, -1.23847884e+00, -1.22839820e+00, -1.21831757e+00,\n",
              "        -1.20823693e+00, -1.19815630e+00, -1.18807566e+00, -1.17799503e+00,\n",
              "        -1.16791440e+00, -1.15783376e+00, -1.14775313e+00, -1.13767249e+00,\n",
              "        -1.12759186e+00, -1.11751122e+00, -1.10743059e+00, -1.09734995e+00,\n",
              "        -1.08726932e+00, -1.07718868e+00, -1.06710805e+00, -1.05702741e+00,\n",
              "        -1.04694678e+00, -1.03686614e+00, -1.02678551e+00, -1.01670487e+00,\n",
              "        -1.00662424e+00, -9.96543603e-01, -9.86462968e-01, -9.76382333e-01,\n",
              "        -9.66301699e-01, -9.56221064e-01, -9.46140429e-01, -9.36059794e-01,\n",
              "        -9.25979159e-01, -9.15898524e-01, -9.05817890e-01, -8.95737255e-01,\n",
              "        -8.85656620e-01, -8.75575985e-01, -8.65495350e-01, -8.55414715e-01,\n",
              "        -8.45334081e-01, -8.35253446e-01, -8.25172811e-01, -8.15092176e-01,\n",
              "        -8.05011541e-01, -7.94930906e-01, -7.84850272e-01, -7.74769637e-01,\n",
              "        -7.64689002e-01, -7.54608367e-01, -7.44527732e-01, -7.34447097e-01,\n",
              "        -7.24366463e-01, -7.14285828e-01, -7.04205193e-01, -6.94124558e-01,\n",
              "        -6.84043923e-01, -6.73963288e-01, -6.63882654e-01, -6.53802019e-01,\n",
              "        -6.43721384e-01, -6.33640749e-01, -6.23560114e-01, -6.13479479e-01,\n",
              "        -6.03398845e-01, -5.93318210e-01, -5.83237575e-01, -5.73156940e-01,\n",
              "        -5.63076305e-01, -5.52995670e-01, -5.42915036e-01, -5.32834401e-01,\n",
              "        -5.22753766e-01, -5.12673131e-01, -5.02592496e-01, -4.92511861e-01,\n",
              "        -4.82431227e-01, -4.72350592e-01, -4.62269957e-01, -4.52189322e-01,\n",
              "        -4.42108687e-01, -4.32028052e-01, -4.21947418e-01, -4.11866783e-01,\n",
              "        -4.01786148e-01, -3.91705513e-01, -3.81624878e-01, -3.71544243e-01,\n",
              "        -3.61463609e-01, -3.51382974e-01, -3.41302339e-01, -3.31221704e-01,\n",
              "        -3.21141069e-01, -3.11060434e-01, -3.00979800e-01, -2.90899165e-01,\n",
              "        -2.80818530e-01, -2.70737895e-01, -2.60657260e-01, -2.50576625e-01,\n",
              "        -2.40495991e-01, -2.30415356e-01, -2.20334721e-01, -2.10254086e-01,\n",
              "        -2.00173451e-01, -1.90092816e-01, -1.80012182e-01, -1.69931547e-01,\n",
              "        -1.59850912e-01, -1.49770277e-01, -1.39689642e-01, -1.29609007e-01,\n",
              "        -1.19528373e-01, -1.09447738e-01, -9.93671029e-02, -8.92864681e-02,\n",
              "        -7.92058333e-02, -6.91251984e-02, -5.90445636e-02, -4.89639288e-02,\n",
              "        -3.88832940e-02, -2.88026591e-02, -1.87220243e-02, -8.64138945e-03,\n",
              "         1.43924538e-03,  1.15198802e-02,  2.16005150e-02,  3.16811499e-02,\n",
              "         4.17617847e-02,  5.18424195e-02,  6.19230544e-02,  7.20036892e-02,\n",
              "         8.20843240e-02,  9.21649589e-02,  1.02245594e-01,  1.12326229e-01,\n",
              "         1.22406863e-01,  1.32487498e-01,  1.42568133e-01,  1.52648768e-01,\n",
              "         1.62729403e-01,  1.72810038e-01,  1.82890672e-01,  1.92971307e-01,\n",
              "         2.03051942e-01,  2.13132577e-01,  2.23213212e-01,  2.33293847e-01,\n",
              "         2.43374481e-01,  2.53455116e-01,  2.63535751e-01,  2.73616386e-01,\n",
              "         2.83697021e-01,  2.93777656e-01,  3.03858290e-01,  3.13938925e-01,\n",
              "         3.24019560e-01,  3.34100195e-01,  3.44180830e-01,  3.54261465e-01,\n",
              "         3.64342099e-01,  3.74422734e-01,  3.84503369e-01,  3.94584004e-01,\n",
              "         4.04664639e-01,  4.14745274e-01,  4.24825908e-01,  4.34906543e-01,\n",
              "         4.44987178e-01,  4.55067813e-01,  4.65148448e-01,  4.75229083e-01,\n",
              "         4.85309717e-01,  4.95390352e-01,  5.05470987e-01,  5.15551622e-01,\n",
              "         5.25632257e-01,  5.35712892e-01,  5.45793526e-01,  5.55874161e-01,\n",
              "         5.65954796e-01,  5.76035431e-01,  5.86116066e-01,  5.96196701e-01,\n",
              "         6.06277335e-01,  6.16357970e-01,  6.26438605e-01,  6.36519240e-01,\n",
              "         6.46599875e-01,  6.56680510e-01,  6.66761144e-01,  6.76841779e-01,\n",
              "         6.86922414e-01,  6.97003049e-01,  7.07083684e-01,  7.17164319e-01,\n",
              "         7.27244953e-01,  7.37325588e-01,  7.47406223e-01,  7.57486858e-01,\n",
              "         7.67567493e-01,  7.77648128e-01,  7.87728762e-01,  7.97809397e-01,\n",
              "         8.07890032e-01,  8.17970667e-01,  8.28051302e-01,  8.38131937e-01,\n",
              "         8.48212571e-01,  8.58293206e-01,  8.68373841e-01,  8.78454476e-01,\n",
              "         8.88535111e-01,  8.98615746e-01,  9.08696380e-01,  9.18777015e-01,\n",
              "         9.28857650e-01,  9.38938285e-01,  9.49018920e-01,  9.59099555e-01,\n",
              "         9.69180189e-01,  9.79260824e-01,  9.89341459e-01,  9.99422094e-01,\n",
              "         1.00950273e+00,  1.01958336e+00,  1.02966400e+00,  1.03974463e+00,\n",
              "         1.04982527e+00,  1.05990590e+00,  1.06998654e+00,  1.08006717e+00,\n",
              "         1.09014781e+00,  1.10022844e+00,  1.11030908e+00,  1.12038971e+00,\n",
              "         1.13047035e+00,  1.14055098e+00,  1.15063162e+00,  1.16071225e+00,\n",
              "         1.17079289e+00,  1.18087352e+00,  1.19095416e+00,  1.20103479e+00,\n",
              "         1.21111543e+00,  1.22119606e+00,  1.23127669e+00,  1.24135733e+00,\n",
              "         1.25143796e+00,  1.26151860e+00,  1.27159923e+00,  1.28167987e+00,\n",
              "         1.29176050e+00,  1.30184114e+00,  1.31192177e+00,  1.32200241e+00,\n",
              "         1.33208304e+00,  1.34216368e+00,  1.35224431e+00,  1.36232495e+00,\n",
              "         1.37240558e+00,  1.38248622e+00,  1.39256685e+00,  1.40264749e+00,\n",
              "         1.41272812e+00,  1.42280876e+00,  1.43288939e+00,  1.44297003e+00,\n",
              "         1.45305066e+00,  1.46313130e+00,  1.47321193e+00,  1.48329257e+00,\n",
              "         1.49337320e+00,  1.50345384e+00,  1.51353447e+00,  1.52361511e+00,\n",
              "         1.53369574e+00,  1.54377637e+00,  1.55385701e+00,  1.56393764e+00,\n",
              "         1.57401828e+00,  1.58409891e+00,  1.59417955e+00,  1.60426018e+00,\n",
              "         1.61434082e+00,  1.62442145e+00,  1.63450209e+00,  1.64458272e+00,\n",
              "         1.65466336e+00,  1.66474399e+00,  1.67482463e+00,  1.68490526e+00,\n",
              "         1.69498590e+00,  1.70506653e+00,  1.71514717e+00,  1.72522780e+00,\n",
              "         1.73530844e+00,  1.74538907e+00,  1.75546971e+00,  1.76555034e+00,\n",
              "         1.77563098e+00,  1.78571161e+00,  1.79579225e+00,  1.80587288e+00,\n",
              "         1.81595352e+00,  1.82603415e+00,  1.83611478e+00,  1.84619542e+00,\n",
              "         1.85627605e+00,  1.86635669e+00,  1.87643732e+00,  1.88651796e+00,\n",
              "         1.89659859e+00,  1.90667923e+00,  1.91675986e+00,  1.92684050e+00,\n",
              "         1.93692113e+00,  1.94700177e+00,  1.95708240e+00,  1.96716304e+00,\n",
              "         1.97724367e+00,  1.98732431e+00,  1.99740494e+00,  2.00748558e+00,\n",
              "         2.01756621e+00,  2.02764685e+00,  2.03772748e+00,  2.04780812e+00,\n",
              "         2.05788875e+00,  2.06796939e+00,  2.07805002e+00,  2.08813066e+00,\n",
              "         2.09821129e+00,  2.10829193e+00,  2.11837256e+00,  2.12845320e+00,\n",
              "         2.13853383e+00,  2.14861446e+00,  2.15869510e+00,  2.16877573e+00,\n",
              "         2.17885637e+00,  2.18893700e+00,  2.19901764e+00,  2.20909827e+00,\n",
              "         2.21917891e+00,  2.22925954e+00,  2.23934018e+00,  2.24942081e+00,\n",
              "         2.25950145e+00,  2.26958208e+00,  2.27966272e+00,  2.28974335e+00,\n",
              "         2.29982399e+00,  2.30990462e+00,  2.31998526e+00,  2.33006589e+00,\n",
              "         2.34014653e+00,  2.35022716e+00,  2.36030780e+00,  2.37038843e+00,\n",
              "         2.38046907e+00,  2.39054970e+00,  2.40063034e+00,  2.41071097e+00,\n",
              "         2.42079161e+00,  2.43087224e+00,  2.44095287e+00,  2.45103351e+00,\n",
              "         2.46111414e+00,  2.47119478e+00,  2.48127541e+00,  2.49135605e+00,\n",
              "         2.50143668e+00,  2.51151732e+00,  2.52159795e+00,  2.53167859e+00,\n",
              "         2.54175922e+00,  2.55183986e+00,  2.56192049e+00,  2.57200113e+00,\n",
              "         2.58208176e+00]),\n",
              " <a list of 500 Patch objects>)"
            ]
          },
          "metadata": {},
          "execution_count": 4
        },
        {
          "output_type": "display_data",
          "data": {
            "text/plain": [
              "<Figure size 1152x576 with 1 Axes>"
            ],
            "image/png": "[encoded data removed]"
          },
          "metadata": {
            "needs_background": "light"
          }
        }
      ]
    },
    {
      "cell_type": "code",
      "source": [
        "plt.figure(figsize=(16,8))\n",
        "sns.distplot(R, hist=False)"
      ],
      "metadata": {
        "colab": {
          "base_uri": "https://localhost:8080/",
          "height": 555
        },
        "id": "WenMRx7tgH1C",
        "outputId": "9301afa4-7f62-49f2-fa0b-0a61606b04f9"
      },
      "execution_count": 5,
      "outputs": [
        {
          "output_type": "stream",
          "name": "stderr",
          "text": [
            "/usr/local/lib/python3.8/dist-packages/seaborn/distributions.py:2619: FutureWarning: `distplot` is a deprecated function and will be removed in a future version. Please adapt your code to use either `displot` (a figure-level function with similar flexibility) or `kdeplot` (an axes-level function for kernel density plots).\n",
            "  warnings.warn(msg, FutureWarning)\n"
          ]
        },
        {
          "output_type": "execute_result",
          "data": {
            "text/plain": [
              "<matplotlib.axes._subplots.AxesSubplot at 0x7f9dc6b07af0>"
            ]
          },
          "metadata": {},
          "execution_count": 5
        },
        {
          "output_type": "display_data",
          "data": {
            "text/plain": [
              "<Figure size 1152x576 with 1 Axes>"
            ],
            "image/png": "[encoded data removed]"
          },
          "metadata": {
            "needs_background": "light"
          }
        }
      ]
    },
    {
      "cell_type": "markdown",
      "source": [
        "## 0.01 Upper Quantile"
      ],
      "metadata": {
        "id": "4MTIXtB8gmza"
      }
    },
    {
      "cell_type": "code",
      "source": [
        "np.quantile(R, 0.99)"
      ],
      "metadata": {
        "colab": {
          "base_uri": "https://localhost:8080/"
        },
        "id": "uDkePC-dgk64",
        "outputId": "18775e26-5dce-481f-cad6-b225b0beae8e"
      },
      "execution_count": 6,
      "outputs": [
        {
          "output_type": "execute_result",
          "data": {
            "text/plain": [
              "0.9431767625079941"
            ]
          },
          "metadata": {},
          "execution_count": 6
        }
      ]
    },
    {
      "cell_type": "markdown",
      "source": [
        "## Average of Top 1%"
      ],
      "metadata": {
        "id": "uiqhD1P0hATA"
      }
    },
    {
      "cell_type": "code",
      "source": [
        "sum = 0\n",
        "count = 0\n",
        "q = np.quantile(R, 0.99)\n",
        "\n",
        "for i in R:\n",
        "  if i > q:\n",
        "    sum += i\n",
        "    count += 1\n",
        "\n",
        "avg = sum/count\n",
        "print(avg)"
      ],
      "metadata": {
        "colab": {
          "base_uri": "https://localhost:8080/"
        },
        "id": "BB4I4Y8-hAmo",
        "outputId": "06f866f5-092f-403d-d599-9f2468aa4554"
      },
      "execution_count": 7,
      "outputs": [
        {
          "output_type": "stream",
          "name": "stdout",
          "text": [
            "[1.24440267]\n"
          ]
        }
      ]
    },
    {
      "cell_type": "markdown",
      "source": [
        "--------------------------------------------------------------------------------\n",
        "# Problem 7"
      ],
      "metadata": {
        "id": "hyD6qDB1h6cH"
      }
    },
    {
      "cell_type": "code",
      "source": [
        "from scipy.optimize import minimize"
      ],
      "metadata": {
        "id": "GvFhIvTrohQf"
      },
      "execution_count": 8,
      "outputs": []
    },
    {
      "cell_type": "code",
      "source": [
        "url = 'https://raw.githubusercontent.com/DjengoFang/Financial-Engineering-Ruppert-Matteson-/main/datasets/CRSPday.csv'\n",
        "data = pd.read_csv(url)\n",
        "data.head()"
      ],
      "metadata": {
        "colab": {
          "base_uri": "https://localhost:8080/",
          "height": 206
        },
        "id": "Gtyod1E7VJ7O",
        "outputId": "8a111e24-e67c-4964-f1a3-a9068fa5adf8"
      },
      "execution_count": 9,
      "outputs": [
        {
          "output_type": "execute_result",
          "data": {
            "text/plain": [
              "   year  month  day        ge       ibm     mobil      crsp\n",
              "0  1989      1    3 -0.016760  0.000000 -0.002747 -0.007619\n",
              "1  1989      1    4  0.017045  0.005128  0.005510  0.013016\n",
              "2  1989      1    5 -0.002793 -0.002041  0.005479  0.002815\n",
              "3  1989      1    6  0.000000 -0.006135  0.002725  0.003064\n",
              "4  1989      1    9  0.000000  0.004115  0.005435  0.001633"
            ],
            "text/html": [
              "\n",
              "  <div id=\"df-ebbaf115-80d6-42ee-be13-22152f44bf1b\">\n",
              "    <div class=\"colab-df-container\">\n",
              "      <div>\n",
              "<style scoped>\n",
              "    .dataframe tbody tr th:only-of-type {\n",
              "        vertical-align: middle;\n",
              "    }\n",
              "\n",
              "    .dataframe tbody tr th {\n",
              "        vertical-align: top;\n",
              "    }\n",
              "\n",
              "    .dataframe thead th {\n",
              "        text-align: right;\n",
              "    }\n",
              "</style>\n",
              "<table border=\"1\" class=\"dataframe\">\n",
              "  <thead>\n",
              "    <tr style=\"text-align: right;\">\n",
              "      <th></th>\n",
              "      <th>year</th>\n",
              "      <th>month</th>\n",
              "      <th>day</th>\n",
              "      <th>ge</th>\n",
              "      <th>ibm</th>\n",
              "      <th>mobil</th>\n",
              "      <th>crsp</th>\n",
              "    </tr>\n",
              "  </thead>\n",
              "  <tbody>\n",
              "    <tr>\n",
              "      <th>0</th>\n",
              "      <td>1989</td>\n",
              "      <td>1</td>\n",
              "      <td>3</td>\n",
              "      <td>-0.016760</td>\n",
              "      <td>0.000000</td>\n",
              "      <td>-0.002747</td>\n",
              "      <td>-0.007619</td>\n",
              "    </tr>\n",
              "    <tr>\n",
              "      <th>1</th>\n",
              "      <td>1989</td>\n",
              "      <td>1</td>\n",
              "      <td>4</td>\n",
              "      <td>0.017045</td>\n",
              "      <td>0.005128</td>\n",
              "      <td>0.005510</td>\n",
              "      <td>0.013016</td>\n",
              "    </tr>\n",
              "    <tr>\n",
              "      <th>2</th>\n",
              "      <td>1989</td>\n",
              "      <td>1</td>\n",
              "      <td>5</td>\n",
              "      <td>-0.002793</td>\n",
              "      <td>-0.002041</td>\n",
              "      <td>0.005479</td>\n",
              "      <td>0.002815</td>\n",
              "    </tr>\n",
              "    <tr>\n",
              "      <th>3</th>\n",
              "      <td>1989</td>\n",
              "      <td>1</td>\n",
              "      <td>6</td>\n",
              "      <td>0.000000</td>\n",
              "      <td>-0.006135</td>\n",
              "      <td>0.002725</td>\n",
              "      <td>0.003064</td>\n",
              "    </tr>\n",
              "    <tr>\n",
              "      <th>4</th>\n",
              "      <td>1989</td>\n",
              "      <td>1</td>\n",
              "      <td>9</td>\n",
              "      <td>0.000000</td>\n",
              "      <td>0.004115</td>\n",
              "      <td>0.005435</td>\n",
              "      <td>0.001633</td>\n",
              "    </tr>\n",
              "  </tbody>\n",
              "</table>\n",
              "</div>\n",
              "      <button class=\"colab-df-convert\" onclick=\"convertToInteractive('df-ebbaf115-80d6-42ee-be13-22152f44bf1b')\"\n",
              "              title=\"Convert this dataframe to an interactive table.\"\n",
              "              style=\"display:none;\">\n",
              "        \n",
              "  <svg xmlns=\"http://www.w3.org/2000/svg\" height=\"24px\"viewBox=\"0 0 24 24\"\n",
              "       width=\"24px\">\n",
              "    <path d=\"M0 0h24v24H0V0z\" fill=\"none\"/>\n",
              "    <path d=\"M18.56 5.44l.94 2.06.94-2.06 2.06-.94-2.06-.94-.94-2.06-.94 2.06-2.06.94zm-11 1L8.5 8.5l.94-2.06 2.06-.94-2.06-.94L8.5 2.5l-.94 2.06-2.06.94zm10 10l.94 2.06.94-2.06 2.06-.94-2.06-.94-.94-2.06-.94 2.06-2.06.94z\"/><path d=\"M17.41 7.96l-1.37-1.37c-.4-.4-.92-.59-1.43-.59-.52 0-1.04.2-1.43.59L10.3 9.45l-7.72 7.72c-.78.78-.78 2.05 0 2.83L4 21.41c.39.39.9.59 1.41.59.51 0 1.02-.2 1.41-.59l7.78-7.78 2.81-2.81c.8-.78.8-2.07 0-2.86zM5.41 20L4 18.59l7.72-7.72 1.47 1.35L5.41 20z\"/>\n",
              "  </svg>\n",
              "      </button>\n",
              "      \n",
              "  <style>\n",
              "    .colab-df-container {\n",
              "      display:flex;\n",
              "      flex-wrap:wrap;\n",
              "      gap: 12px;\n",
              "    }\n",
              "\n",
              "    .colab-df-convert {\n",
              "      background-color: #E8F0FE;\n",
              "      border: none;\n",
              "      border-radius: 50%;\n",
              "      cursor: pointer;\n",
              "      display: none;\n",
              "      fill: #1967D2;\n",
              "      height: 32px;\n",
              "      padding: 0 0 0 0;\n",
              "      width: 32px;\n",
              "    }\n",
              "\n",
              "    .colab-df-convert:hover {\n",
              "      background-color: #E2EBFA;\n",
              "      box-shadow: 0px 1px 2px rgba(60, 64, 67, 0.3), 0px 1px 3px 1px rgba(60, 64, 67, 0.15);\n",
              "      fill: #174EA6;\n",
              "    }\n",
              "\n",
              "    [theme=dark] .colab-df-convert {\n",
              "      background-color: #3B4455;\n",
              "      fill: #D2E3FC;\n",
              "    }\n",
              "\n",
              "    [theme=dark] .colab-df-convert:hover {\n",
              "      background-color: #434B5C;\n",
              "      box-shadow: 0px 1px 3px 1px rgba(0, 0, 0, 0.15);\n",
              "      filter: drop-shadow(0px 1px 2px rgba(0, 0, 0, 0.3));\n",
              "      fill: #FFFFFF;\n",
              "    }\n",
              "  </style>\n",
              "\n",
              "      <script>\n",
              "        const buttonEl =\n",
              "          document.querySelector('#df-ebbaf115-80d6-42ee-be13-22152f44bf1b button.colab-df-convert');\n",
              "        buttonEl.style.display =\n",
              "          google.colab.kernel.accessAllowed ? 'block' : 'none';\n",
              "\n",
              "        async function convertToInteractive(key) {\n",
              "          const element = document.querySelector('#df-ebbaf115-80d6-42ee-be13-22152f44bf1b');\n",
              "          const dataTable =\n",
              "            await google.colab.kernel.invokeFunction('convertToInteractive',\n",
              "                                                     [key], {});\n",
              "          if (!dataTable) return;\n",
              "\n",
              "          const docLinkHtml = 'Like what you see? Visit the ' +\n",
              "            '<a target=\"_blank\" href=https://colab.research.google.com/notebooks/data_table.ipynb>data table notebook</a>'\n",
              "            + ' to learn more about interactive tables.';\n",
              "          element.innerHTML = '';\n",
              "          dataTable['output_type'] = 'display_data';\n",
              "          await google.colab.output.renderOutput(dataTable, element);\n",
              "          const docLink = document.createElement('div');\n",
              "          docLink.innerHTML = docLinkHtml;\n",
              "          element.appendChild(docLink);\n",
              "        }\n",
              "      </script>\n",
              "    </div>\n",
              "  </div>\n",
              "  "
            ]
          },
          "metadata": {},
          "execution_count": 9
        }
      ]
    },
    {
      "cell_type": "code",
      "source": [
        "Y = data[['ibm', 'crsp']].to_numpy()\n",
        "Y = np.transpose(Y)\n",
        "print(Y)"
      ],
      "metadata": {
        "colab": {
          "base_uri": "https://localhost:8080/"
        },
        "id": "R6Wj9IvEVlbm",
        "outputId": "4f019d32-9bc1-4db1-bf01-36679ea5fc3d"
      },
      "execution_count": 10,
      "outputs": [
        {
          "output_type": "stream",
          "name": "stdout",
          "text": [
            "[[ 0.        0.005128 -0.002041 ... -0.011229 -0.002004 -0.012718]\n",
            " [-0.007619  0.013016  0.002815 ...  0.011373 -0.00496   0.004976]]\n"
          ]
        }
      ]
    },
    {
      "cell_type": "code",
      "source": [
        "def loglike(par):\n",
        "  mu = np.array([par[0], par[1]])\n",
        "  A = np.array([[par[2], par[3]], [0, par[4]]])\n",
        "  scale = np.transpose(A) @ A\n",
        "  df = par[5]\n",
        "  rv = multivariate_t(mu, scale, df=df)\n",
        "  return -np.sum(np.log(rv.pdf(np.transpose(Y))))"
      ],
      "metadata": {
        "id": "KkkbRnbrh8Et"
      },
      "execution_count": 11,
      "outputs": []
    },
    {
      "cell_type": "code",
      "source": [
        "np.cov(Y)"
      ],
      "metadata": {
        "colab": {
          "base_uri": "https://localhost:8080/"
        },
        "id": "e80qRt3JWdUU",
        "outputId": "33fe25af-e232-4fd4-e750-b6fbce4ce05d"
      },
      "execution_count": 12,
      "outputs": [
        {
          "output_type": "execute_result",
          "data": {
            "text/plain": [
              "array([[3.06130872e-04, 6.60209371e-05],\n",
              "       [6.60209371e-05, 6.01912728e-05]])"
            ]
          },
          "metadata": {},
          "execution_count": 12
        }
      ]
    },
    {
      "cell_type": "code",
      "source": [
        "A = np.linalg.cholesky(np.cov(Y))\n",
        "start = np.concatenate((Y.mean(axis=1), np.array([A[0][0], A[0][1], A[1][1], 4])), axis=0)\n",
        "bnds = ((-0.02, 0.02), (-0.02, 0.02), (-0.1, 0.1), (-0.1, 0.1), (-0.1, 0.1), (2, 15))"
      ],
      "metadata": {
        "id": "CGdBVIaHpbAA"
      },
      "execution_count": 13,
      "outputs": []
    },
    {
      "cell_type": "code",
      "source": [
        "res = minimize(loglike, x0=start, method=\"L-BFGS-B\", bounds=bnds)"
      ],
      "metadata": {
        "id": "CcwSjb_ih8Km"
      },
      "execution_count": 14,
      "outputs": []
    },
    {
      "cell_type": "code",
      "source": [
        "res"
      ],
      "metadata": {
        "colab": {
          "base_uri": "https://localhost:8080/"
        },
        "id": "no5c-5e2ZeMk",
        "outputId": "e3e60b79-c7fb-49d8-ed28-a39fa0a01bf5"
      },
      "execution_count": 15,
      "outputs": [
        {
          "output_type": "execute_result",
          "data": {
            "text/plain": [
              "      fun: -16106.905357833388\n",
              " hess_inv: <6x6 LbfgsInvHessProduct with dtype=float64>\n",
              "      jac: array([-4.43742465e+00,  9.78798198e-01, -1.92849257e+00, -1.66946847e+00,\n",
              "       -4.01978468e+00,  4.36557460e-03])\n",
              "  message: 'CONVERGENCE: REL_REDUCTION_OF_F_<=_FACTR*EPSMCH'\n",
              "     nfev: 175\n",
              "      nit: 21\n",
              "     njev: 25\n",
              "   status: 0\n",
              "  success: True\n",
              "        x: array([4.34850156e-04, 8.52101687e-04, 1.24948670e-02, 2.64193682e-03,\n",
              "       4.94600081e-03, 4.14672589e+00])"
            ]
          },
          "metadata": {},
          "execution_count": 15
        }
      ]
    },
    {
      "cell_type": "code",
      "source": [
        "np.sqrt(np.diag(np.linalg.inv(res.hess_inv.todense())))"
      ],
      "metadata": {
        "colab": {
          "base_uri": "https://localhost:8080/"
        },
        "id": "956H6apBi5Gx",
        "outputId": "bc571085-0020-4cc4-f55b-c96c0849d405"
      },
      "execution_count": 32,
      "outputs": [
        {
          "output_type": "execute_result",
          "data": {
            "text/plain": [
              "array([6.39917883e+02, 4.23938127e+03, 2.77315568e+03, 7.16797360e+03,\n",
              "       5.23743745e+02, 7.02398895e-01])"
            ]
          },
          "metadata": {},
          "execution_count": 32
        }
      ]
    },
    {
      "cell_type": "markdown",
      "source": [
        "## MLE of θ "
      ],
      "metadata": {
        "id": "Tn2lO9LGe6Oi"
      }
    },
    {
      "cell_type": "code",
      "source": [
        "Ahat = np.array([[res.x[2], res.x[3]], [0, res.x[4]]])\n",
        "print(Ahat)"
      ],
      "metadata": {
        "colab": {
          "base_uri": "https://localhost:8080/"
        },
        "id": "fbiYmRxScrml",
        "outputId": "3847d1e5-65ce-4bb8-ec3b-16fe4ce28005"
      },
      "execution_count": 16,
      "outputs": [
        {
          "output_type": "stream",
          "name": "stdout",
          "text": [
            "[[0.01249487 0.00264194]\n",
            " [0.         0.004946  ]]\n"
          ]
        }
      ]
    },
    {
      "cell_type": "markdown",
      "source": [
        "## (e) MLE of the covariance matrix"
      ],
      "metadata": {
        "id": "3pt0Tg0bcpJd"
      }
    },
    {
      "cell_type": "code",
      "source": [
        "MLE_cov = (np.transpose(Ahat) @ Ahat)* (res.x[5]/(res.x[5]-2))\n",
        "print(\"MLE\")\n",
        "print(MLE_cov)"
      ],
      "metadata": {
        "colab": {
          "base_uri": "https://localhost:8080/"
        },
        "id": "dN_tax5AdHz_",
        "outputId": "d6c872ec-4179-482a-df36-6118671a6241"
      },
      "execution_count": 17,
      "outputs": [
        {
          "output_type": "stream",
          "name": "stdout",
          "text": [
            "MLE\n",
            "[[3.01572688e-04 6.37650639e-05]\n",
            " [6.37650639e-05 6.07364376e-05]]\n"
          ]
        }
      ]
    },
    {
      "cell_type": "code",
      "source": [
        "print(\"Real\")\n",
        "np.cov(Y)"
      ],
      "metadata": {
        "colab": {
          "base_uri": "https://localhost:8080/"
        },
        "id": "2_-woZ5Jd01i",
        "outputId": "a731f4c0-0fbb-467f-eec5-1fe80f8ba123"
      },
      "execution_count": 18,
      "outputs": [
        {
          "output_type": "stream",
          "name": "stdout",
          "text": [
            "Real\n"
          ]
        },
        {
          "output_type": "execute_result",
          "data": {
            "text/plain": [
              "array([[3.06130872e-04, 6.60209371e-05],\n",
              "       [6.60209371e-05, 6.01912728e-05]])"
            ]
          },
          "metadata": {},
          "execution_count": 18
        }
      ]
    },
    {
      "cell_type": "markdown",
      "source": [
        "## (f) MLE of ρ "
      ],
      "metadata": {
        "id": "Fqrb7ZsUch38"
      }
    },
    {
      "cell_type": "code",
      "source": [
        "rho = MLE_cov[0][1] / np.sqrt(MLE_cov[0][0]*MLE_cov[1][1])\n",
        "print(\"MLE\")\n",
        "print(rho)"
      ],
      "metadata": {
        "colab": {
          "base_uri": "https://localhost:8080/"
        },
        "id": "DOjC8LXackJk",
        "outputId": "cb7e3396-fcbc-42e5-e380-643428226a65"
      },
      "execution_count": 19,
      "outputs": [
        {
          "output_type": "stream",
          "name": "stdout",
          "text": [
            "MLE\n",
            "0.47115319187811966\n"
          ]
        }
      ]
    },
    {
      "cell_type": "code",
      "source": [
        "print(\"Real\")\n",
        "np.corrcoef(Y)"
      ],
      "metadata": {
        "colab": {
          "base_uri": "https://localhost:8080/"
        },
        "id": "zEYpwO8feQEo",
        "outputId": "00648a8c-1eab-4eb2-bc66-4ab71c9d6faf"
      },
      "execution_count": 20,
      "outputs": [
        {
          "output_type": "stream",
          "name": "stdout",
          "text": [
            "Real\n"
          ]
        },
        {
          "output_type": "execute_result",
          "data": {
            "text/plain": [
              "array([[1.        , 0.48636393],\n",
              "       [0.48636393, 1.        ]])"
            ]
          },
          "metadata": {},
          "execution_count": 20
        }
      ]
    }
  ]
}