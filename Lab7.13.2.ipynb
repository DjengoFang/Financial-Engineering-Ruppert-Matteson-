{
  "nbformat": 4,
  "nbformat_minor": 0,
  "metadata": {
    "colab": {
      "provenance": [],
      "authorship_tag": "ABX9TyOdQTStigfEeZ/kGyRRr4sr",
      "include_colab_link": true
    },
    "kernelspec": {
      "name": "python3",
      "display_name": "Python 3"
    },
    "language_info": {
      "name": "python"
    }
  },
  "cells": [
    {
      "cell_type": "markdown",
      "metadata": {
        "id": "view-in-github",
        "colab_type": "text"
      },
      "source": [
        "<a href=\"https://colab.research.google.com/github/DjengoFang/Financial-Engineering-Ruppert-Matteson-/blob/main/Lab7.13.2.ipynb\" target=\"_parent\"><img src=\"https://colab.research.google.com/assets/colab-badge.svg\" alt=\"Open In Colab\"/></a>"
      ]
    },
    {
      "cell_type": "code",
      "execution_count": 1,
      "metadata": {
        "id": "G4OeUWBRZMI_"
      },
      "outputs": [],
      "source": [
        "import pandas as pd\n",
        "import numpy as np\n",
        "from numpy import random as rand\n",
        "import matplotlib.pyplot as plt\n",
        "import math"
      ]
    },
    {
      "cell_type": "code",
      "source": [
        "N = 2500\n",
        "nu = 3\n",
        "rand.seed(5640)"
      ],
      "metadata": {
        "id": "cfZTiqDdZS9a"
      },
      "execution_count": 2,
      "outputs": []
    },
    {
      "cell_type": "markdown",
      "source": [
        "## Postive Correlated"
      ],
      "metadata": {
        "id": "v19BT8K5lCwQ"
      }
    },
    {
      "cell_type": "code",
      "source": [
        "mu = np.array([0, 0])\n",
        "cov = np.array([[1, 0.8], [0.8, 1]])\n",
        "\n",
        "\n",
        "x = rand.multivariate_normal(mean=mu, cov=cov, size=N)\n",
        "w = np.sqrt(nu / rand.chisquare(df=nu, size=N))\n",
        "W = np.column_stack((w, w))\n",
        "x = np.multiply(x, W)\n",
        "print(x.shape)\n",
        "plt.scatter(x[:,0], x[:, 1])"
      ],
      "metadata": {
        "colab": {
          "base_uri": "https://localhost:8080/",
          "height": 300
        },
        "id": "x_47ed0iZYIz",
        "outputId": "e997e04f-ff64-4b2f-9f80-88402ba6a7a0"
      },
      "execution_count": 3,
      "outputs": [
        {
          "output_type": "stream",
          "name": "stdout",
          "text": [
            "(2500, 2)\n"
          ]
        },
        {
          "output_type": "execute_result",
          "data": {
            "text/plain": [
              "<matplotlib.collections.PathCollection at 0x7fda5d1ca640>"
            ]
          },
          "metadata": {},
          "execution_count": 3
        },
        {
          "output_type": "display_data",
          "data": {
            "text/plain": [
              "<Figure size 432x288 with 1 Axes>"
            ],
            "image/png": "[encoded data removed]"
          },
          "metadata": {
            "needs_background": "light"
          }
        }
      ]
    },
    {
      "cell_type": "markdown",
      "source": [
        "## Postive Correlated but have no Tail Dependence"
      ],
      "metadata": {
        "id": "mKrHKtknlKeS"
      }
    },
    {
      "cell_type": "code",
      "source": [
        "mu = np.array([0, 0])\n",
        "cov = np.array([[1, 0.8], [0.8, 1]])\n",
        "\n",
        "x = rand.multivariate_normal(mean=mu, cov=cov, size=N)\n",
        "w1 = np.sqrt(nu / rand.chisquare(df=nu, size=N))\n",
        "w2 = np.sqrt(nu / rand.chisquare(df=nu, size=N))\n",
        "W = np.column_stack((w1, w2))\n",
        "x = np.multiply(x, W)\n",
        "print(x.shape)\n",
        "plt.scatter(x[:,0], x[:, 1])"
      ],
      "metadata": {
        "colab": {
          "base_uri": "https://localhost:8080/",
          "height": 300
        },
        "id": "W5a5rlljjVlz",
        "outputId": "4791518b-36cd-4875-f7f5-a30e80bf5651"
      },
      "execution_count": 4,
      "outputs": [
        {
          "output_type": "stream",
          "name": "stdout",
          "text": [
            "(2500, 2)\n"
          ]
        },
        {
          "output_type": "execute_result",
          "data": {
            "text/plain": [
              "<matplotlib.collections.PathCollection at 0x7fda5ccac340>"
            ]
          },
          "metadata": {},
          "execution_count": 4
        },
        {
          "output_type": "display_data",
          "data": {
            "text/plain": [
              "<Figure size 432x288 with 1 Axes>"
            ],
            "image/png": "[encoded data removed]"
          },
          "metadata": {
            "needs_background": "light"
          }
        }
      ]
    },
    {
      "cell_type": "markdown",
      "source": [
        "## Uncorrelated"
      ],
      "metadata": {
        "id": "leOOZh4zla9l"
      }
    },
    {
      "cell_type": "code",
      "source": [
        "mu = np.array([0, 0])\n",
        "cov = np.array([[1, 0], [0, 1]])\n",
        "\n",
        "x = rand.multivariate_normal(mean=mu, cov=cov, size=N)\n",
        "w1 = np.sqrt(nu / rand.chisquare(df=nu, size=N))\n",
        "w2 = np.sqrt(nu / rand.chisquare(df=nu, size=N))\n",
        "W = np.column_stack((w1, w2))\n",
        "x = np.multiply(x, W)\n",
        "print(x.shape)\n",
        "plt.scatter(x[:,0], x[:, 1])"
      ],
      "metadata": {
        "colab": {
          "base_uri": "https://localhost:8080/",
          "height": 300
        },
        "id": "S-s6dVoHjuFO",
        "outputId": "7a4d2ca4-9559-4765-b04c-05a19ff53755"
      },
      "execution_count": 5,
      "outputs": [
        {
          "output_type": "stream",
          "name": "stdout",
          "text": [
            "(2500, 2)\n"
          ]
        },
        {
          "output_type": "execute_result",
          "data": {
            "text/plain": [
              "<matplotlib.collections.PathCollection at 0x7fda5cc85970>"
            ]
          },
          "metadata": {},
          "execution_count": 5
        },
        {
          "output_type": "display_data",
          "data": {
            "text/plain": [
              "<Figure size 432x288 with 1 Axes>"
            ],
            "image/png": "[encoded data removed]"
          },
          "metadata": {
            "needs_background": "light"
          }
        }
      ]
    },
    {
      "cell_type": "markdown",
      "source": [
        "## Uncorrelated but have Tail Dependence"
      ],
      "metadata": {
        "id": "Dobgv_7VlPPB"
      }
    },
    {
      "cell_type": "code",
      "source": [
        "mu = np.array([0, 0])\n",
        "cov = np.array([[1, 0], [0, 1]])\n",
        "\n",
        "x = rand.multivariate_normal(mean=mu, cov=cov, size=N)\n",
        "w = np.sqrt(nu / rand.chisquare(df=nu, size=N))\n",
        "W = np.column_stack((w, w))\n",
        "x = np.multiply(x, W)\n",
        "print(x.shape)\n",
        "plt.scatter(x[:,0], x[:, 1])"
      ],
      "metadata": {
        "colab": {
          "base_uri": "https://localhost:8080/",
          "height": 300
        },
        "id": "9OElQQodj7f9",
        "outputId": "5d01d1df-3534-4f20-dfcb-f9cfe756b468"
      },
      "execution_count": 6,
      "outputs": [
        {
          "output_type": "stream",
          "name": "stdout",
          "text": [
            "(2500, 2)\n"
          ]
        },
        {
          "output_type": "execute_result",
          "data": {
            "text/plain": [
              "<matplotlib.collections.PathCollection at 0x7fda5cbe06a0>"
            ]
          },
          "metadata": {},
          "execution_count": 6
        },
        {
          "output_type": "display_data",
          "data": {
            "text/plain": [
              "<Figure size 432x288 with 1 Axes>"
            ],
            "image/png": "[encoded data removed]"
          },
          "metadata": {
            "needs_background": "light"
          }
        }
      ]
    }
  ]
}