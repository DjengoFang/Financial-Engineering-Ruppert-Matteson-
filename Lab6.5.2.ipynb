{
  "nbformat": 4,
  "nbformat_minor": 0,
  "metadata": {
    "colab": {
      "provenance": [],
      "authorship_tag": "ABX9TyNx1Tt6j3aNT1joDbwX5iUC",
      "include_colab_link": true
    },
    "kernelspec": {
      "name": "python3",
      "display_name": "Python 3"
    },
    "language_info": {
      "name": "python"
    }
  },
  "cells": [
    {
      "cell_type": "markdown",
      "metadata": {
        "id": "view-in-github",
        "colab_type": "text"
      },
      "source": [
        "<a href=\"https://colab.research.google.com/github/DjengoFang/Financial-Engineering-Ruppert-Matteson-/blob/main/Lab6.5.2.ipynb\" target=\"_parent\"><img src=\"https://colab.research.google.com/assets/colab-badge.svg\" alt=\"Open In Colab\"/></a>"
      ]
    },
    {
      "cell_type": "code",
      "source": [
        "!pip install bootstrap_stat"
      ],
      "metadata": {
        "colab": {
          "base_uri": "https://localhost:8080/"
        },
        "id": "1hmw-Wm308Vv",
        "outputId": "cdc62546-53f5-44f4-f8df-09c4cee1b4dd"
      },
      "execution_count": 2,
      "outputs": [
        {
          "output_type": "stream",
          "name": "stdout",
          "text": [
            "Looking in indexes: https://pypi.org/simple, https://us-python.pkg.dev/colab-wheels/public/simple/\n",
            "Collecting bootstrap_stat\n",
            "  Downloading bootstrap_stat-0.2.4.2-py3-none-any.whl (32 kB)\n",
            "Requirement already satisfied: numpy>=1.17 in /usr/local/lib/python3.8/dist-packages (from bootstrap_stat) (1.21.6)\n",
            "Requirement already satisfied: scipy>=1.3 in /usr/local/lib/python3.8/dist-packages (from bootstrap_stat) (1.7.3)\n",
            "Collecting pathos>=0.2.5\n",
            "  Downloading pathos-0.3.0-py3-none-any.whl (79 kB)\n",
            "\u001b[2K     \u001b[90m━━━━━━━━━━━━━━━━━━━━━━━━━━━━━━━━━━━━━━━━\u001b[0m \u001b[32m79.8/79.8 KB\u001b[0m \u001b[31m4.9 MB/s\u001b[0m eta \u001b[36m0:00:00\u001b[0m\n",
            "\u001b[?25hRequirement already satisfied: pandas>=0.25.1 in /usr/local/lib/python3.8/dist-packages (from bootstrap_stat) (1.3.5)\n",
            "Requirement already satisfied: pytz>=2017.3 in /usr/local/lib/python3.8/dist-packages (from pandas>=0.25.1->bootstrap_stat) (2022.7)\n",
            "Requirement already satisfied: python-dateutil>=2.7.3 in /usr/local/lib/python3.8/dist-packages (from pandas>=0.25.1->bootstrap_stat) (2.8.2)\n",
            "Collecting ppft>=1.7.6.6\n",
            "  Downloading ppft-1.7.6.6-py3-none-any.whl (52 kB)\n",
            "\u001b[2K     \u001b[90m━━━━━━━━━━━━━━━━━━━━━━━━━━━━━━━━━━━━━━━━\u001b[0m \u001b[32m52.8/52.8 KB\u001b[0m \u001b[31m2.7 MB/s\u001b[0m eta \u001b[36m0:00:00\u001b[0m\n",
            "\u001b[?25hRequirement already satisfied: dill>=0.3.6 in /usr/local/lib/python3.8/dist-packages (from pathos>=0.2.5->bootstrap_stat) (0.3.6)\n",
            "Collecting pox>=0.3.2\n",
            "  Downloading pox-0.3.2-py3-none-any.whl (29 kB)\n",
            "Collecting multiprocess>=0.70.14\n",
            "  Downloading multiprocess-0.70.14-py38-none-any.whl (132 kB)\n",
            "\u001b[2K     \u001b[90m━━━━━━━━━━━━━━━━━━━━━━━━━━━━━━━━━━━━━━\u001b[0m \u001b[32m132.0/132.0 KB\u001b[0m \u001b[31m12.5 MB/s\u001b[0m eta \u001b[36m0:00:00\u001b[0m\n",
            "\u001b[?25hRequirement already satisfied: six>=1.5 in /usr/local/lib/python3.8/dist-packages (from python-dateutil>=2.7.3->pandas>=0.25.1->bootstrap_stat) (1.15.0)\n",
            "Installing collected packages: ppft, pox, multiprocess, pathos, bootstrap_stat\n",
            "Successfully installed bootstrap_stat-0.2.4.2 multiprocess-0.70.14 pathos-0.3.0 pox-0.3.2 ppft-1.7.6.6\n"
          ]
        }
      ]
    },
    {
      "cell_type": "code",
      "execution_count": 13,
      "metadata": {
        "id": "SoFE2e6PzL9Q"
      },
      "outputs": [],
      "source": [
        "import pandas as pd\n",
        "import numpy as np\n",
        "import matplotlib.pyplot as plt\n",
        "import math\n",
        "import scipy.stats as stats\n",
        "import statsmodels.api as sm\n",
        "import pylab as py\n",
        "import seaborn as sns\n",
        "import random\n",
        "from tqdm import tqdm\n",
        "from bootstrap_stat import bootstrap_stat as bp\n",
        "from sklearn.utils import resample"
      ]
    },
    {
      "cell_type": "code",
      "source": [
        "niter = 500\n",
        "nboot = 500\n",
        "n = 50\n",
        "nu = 10\n",
        "trueKurtosis = 3 + 6/(nu-4)\n",
        "correct = np.empty(shape=(5,niter))\n",
        "width = np.empty(shape=(5,niter))\n",
        "error = np.empty(shape=(niter))"
      ],
      "metadata": {
        "id": "Fx5wPOtb12cX"
      },
      "execution_count": 9,
      "outputs": []
    },
    {
      "cell_type": "code",
      "source": [
        "def kurtosis(df):\n",
        "  return np.mean(((df-np.mean(df))/np.std(df))**4)"
      ],
      "metadata": {
        "id": "lb13Tl0u03sf"
      },
      "execution_count": 4,
      "outputs": []
    },
    {
      "cell_type": "code",
      "source": [
        "def check(low, high):\n",
        "  if low < trueKurtosis and high > trueKurtosis:\n",
        "    return 1\n",
        "  return 0"
      ],
      "metadata": {
        "id": "EkU5WSFj8OeC"
      },
      "execution_count": 8,
      "outputs": []
    },
    {
      "cell_type": "code",
      "source": [
        "for i in tqdm(range(niter)):\n",
        "  y = stats.t.rvs(df=nu, size=n)\n",
        "  dist = bp.EmpiricalDistribution(y)\n",
        "  boot = []\n",
        "  for j in range(nboot):\n",
        "    sample = resample(y)\n",
        "    boot.append(kurtosis(sample))\n",
        "\n",
        "  # Bootstrap-t Intervals\n",
        "  theta_hat = kurtosis(y)\n",
        "  c1_low, c1_high = bp.t_interval(dist, kurtosis, theta_hat, alpha=0.025)\n",
        "  correct[0][i] = check(c1_low, c1_high)\n",
        "  width[0][i] = c1_high - c1_low\n",
        "\n",
        "  # BCa Confidence Intervals\n",
        "  c2_low, c2_high = bp.bcanon_interval(dist, kurtosis, y, alpha=0.025)\n",
        "  correct[1][i] = check(c2_low, c2_high)\n",
        "  width[1][i] = c2_high - c2_low\n",
        "  \n",
        "  # Normal Approximation Intervals\n",
        "  c3_low = theta_hat - 1.96*np.std(boot)\n",
        "  c3_high = theta_hat + 1.96*np.std(boot)\n",
        "  correct[2][i] = check(c3_low, c3_high)\n",
        "  width[2][i] = c3_high - c3_low\n",
        "\n",
        "  # Percentile Confidence Intervals\n",
        "  c4_low, c4_high = np.quantile(boot, [0.025, 0.975])\n",
        "  correct[3][i] = check(c4_low, c4_high)\n",
        "  width[3][i] = c4_high - c4_low\n",
        "\n",
        "  # Basic Bootstrap Intervals\n",
        "  c5_low = 2*theta_hat - np.quantile(boot, 0.975)\n",
        "  c5_high = 2*theta_hat - np.quantile(boot, 0.025)\n",
        "  correct[4][i] = check(c5_low, c5_high)\n",
        "  width[4][i] = c5_high - c5_low\n",
        "\n",
        "  error[i] = np.mean(boot) - theta_hat"
      ],
      "metadata": {
        "colab": {
          "base_uri": "https://localhost:8080/"
        },
        "id": "_ZYyTypK2pUm",
        "outputId": "853da109-4973-433d-b1d5-9b9f93c25c8c"
      },
      "execution_count": 14,
      "outputs": [
        {
          "output_type": "stream",
          "name": "stderr",
          "text": [
            "100%|██████████| 500/500 [23:51<00:00,  2.86s/it]\n"
          ]
        }
      ]
    },
    {
      "cell_type": "code",
      "source": [
        "print(np.mean(correct, axis=1))\n",
        "print(np.mean(width, axis=1))\n",
        "print(np.mean(error))\n",
        "print(np.mean(error**2))"
      ],
      "metadata": {
        "colab": {
          "base_uri": "https://localhost:8080/"
        },
        "id": "jeGuatUNCVZQ",
        "outputId": "4318668a-ef95-4423-987b-f36b1144e9f0"
      },
      "execution_count": 15,
      "outputs": [
        {
          "output_type": "stream",
          "name": "stdout",
          "text": [
            "[0.71  0.748 0.618 0.65  0.532]\n",
            "[6.7362648  3.51282801 2.86906488 2.72721726 2.72721726]\n",
            "-0.2019978965798473\n",
            "0.1898881829880655\n"
          ]
        }
      ]
    }
  ]
}